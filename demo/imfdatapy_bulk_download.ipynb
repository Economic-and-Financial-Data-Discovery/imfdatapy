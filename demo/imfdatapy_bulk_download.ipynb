{
 "cells": [
  {
   "cell_type": "markdown",
   "id": "a6ea6293",
   "metadata": {},
   "source": [
    "# Bulk download using **imf_data_py**"
   ]
  },
  {
   "cell_type": "code",
   "execution_count": 1,
   "id": "579122ba",
   "metadata": {},
   "outputs": [
    {
     "name": "stderr",
     "output_type": "stream",
     "text": [
      "2023-02-03 17:37:55,360 imf_log.py:39 - INFO - Current directory /Users/terrya/Documents/ProgramData/imfdatapy/demo\n",
      "2023-02-03 17:37:55,360 imf_log.py:40 - INFO - Started log ../log/imfdatapy_2023-02-03-17-37-55.log\n"
     ]
    }
   ],
   "source": [
    "from imfdatapy.imf import *"
   ]
  },
  {
   "cell_type": "code",
   "execution_count": null,
   "id": "b8d944bd",
   "metadata": {},
   "outputs": [
    {
     "name": "stderr",
     "output_type": "stream",
     "text": [
      "2023-02-03 17:37:55,363 imf.py:59 - INFO - Inputs: series = 'IFS', search_terms = ['NGDP_R_SA_XDC']\n",
      "2023-02-03 17:38:01,740 imf.py:139 - INFO - Output all IMF series in a (259, 11) table to ../out/series_imf.csv\n",
      "2023-02-03 17:38:01,748 imf.py:141 - INFO - Output series containing 'IFS' in a (49, 11) table to ../out/series_ifs.csv\n"
     ]
    }
   ],
   "source": [
    "ifs = IFS(search_terms=[\"NGDP_R_SA_XDC\"], countries=None, period='Q')\n",
    "df = ifs.download_data()\n",
    "print(df.head)\n",
    "print(df.shape)"
   ]
  },
  {
   "cell_type": "code",
   "execution_count": null,
   "id": "70214138",
   "metadata": {},
   "outputs": [],
   "source": [
    "ifs = IFS(search_terms=None, countries=[\"US\"], period='Q')\n",
    "df = ifs.download_data()\n",
    "print(df.head)\n",
    "print(df.shape)"
   ]
  }
 ],
 "metadata": {
  "kernelspec": {
   "display_name": "imfdatapy",
   "language": "python",
   "name": "imfdatapy"
  },
  "language_info": {
   "codemirror_mode": {
    "name": "ipython",
    "version": 3
   },
   "file_extension": ".py",
   "mimetype": "text/x-python",
   "name": "python",
   "nbconvert_exporter": "python",
   "pygments_lexer": "ipython3",
   "version": "3.10.9"
  }
 },
 "nbformat": 4,
 "nbformat_minor": 5
}
