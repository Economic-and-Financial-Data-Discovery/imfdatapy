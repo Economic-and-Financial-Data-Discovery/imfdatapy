{
 "cells": [
  {
   "cell_type": "markdown",
   "id": "a6ea6293",
   "metadata": {},
   "source": [
    "# Bulk download using **imf_data_py**"
   ]
  },
  {
   "cell_type": "code",
   "execution_count": 1,
   "id": "579122ba",
   "metadata": {},
   "outputs": [
    {
     "name": "stderr",
     "output_type": "stream",
     "text": [
      "2023-02-13 21:48:31,133 imf_log.py:39 - INFO - Current directory C:\\Users\\sahil\\OneDrive\\Desktop\\IITC RA Work\\imfdatapy\\demo\n",
      "2023-02-13 21:48:31,133 imf_log.py:40 - INFO - Started log ../log/imfdatapy_2023-02-13-21-48-31.log\n"
     ]
    }
   ],
   "source": [
    "from imfdatapy.imf import *"
   ]
  },
  {
   "cell_type": "code",
   "execution_count": 2,
   "id": "b8d944bd",
   "metadata": {},
   "outputs": [
    {
     "name": "stderr",
     "output_type": "stream",
     "text": [
      "2023-02-13 21:48:31,150 imf.py:59 - INFO - Inputs: series = 'IFS', search_terms = ['NGDP_R_SA_XDC']\n",
      "2023-02-13 21:48:37,919 imf.py:139 - INFO - Output all IMF series in a (259, 11) table to ..\\out\\series_imf.csv\n",
      "2023-02-13 21:48:37,980 imf.py:141 - INFO - Output series containing 'IFS' in a (49, 11) table to ..\\out\\series_ifs.csv\n",
      "2023-02-13 21:50:07,035 imf.py:166 - INFO - Output dimension CL_FREQ_IFS in a (3, 2) table to ..\\out\\dim_cl_freq_ifs.csv\n",
      "2023-02-13 21:50:13,561 imf.py:166 - INFO - Output dimension CL_AREA_IFS in a (278, 3) table to ..\\out\\dim_cl_area_ifs.csv\n",
      "2023-02-13 21:50:20,396 imf.py:166 - INFO - Output dimension CL_INDICATOR_IFS in a (1679, 3) table to ..\\out\\dim_cl_indicator_ifs.csv\n",
      "2023-02-13 21:50:27,120 imf.py:187 - INFO - Output meta data of IFS in a (1679, 3) table to ..\\out\\meta_ifs.csv\n",
      "2023-02-13 21:50:33,752 imf.py:189 - INFO - Output meta data of IFS with search search_terms ['NGDP_R_SA_XDC'] in a (1, 3) table to ..\\out\\meta_NGDP_R_SA_XDC__Q.csv\n",
      "2023-02-13 21:50:43,004 imf.py:212 - INFO - Output data of IFS containing 'NGDP_R_SA_XDC' in a (7580, 10) table to ..\\out\\data_NGDP_R_SA_XDC__Q.csv\n"
     ]
    },
    {
     "name": "stdout",
     "output_type": "stream",
     "text": [
      "<bound method NDFrame.head of           VALUE FREQ COUNTRY             ID UNIT_MULT BASE_YEAR TIME_FORMAT  \\\n",
      "6198   118836.7    Q      AR  NGDP_R_SA_XDC         6      2004         P3M   \n",
      "6199   117592.4    Q      AR  NGDP_R_SA_XDC         6      2004         P3M   \n",
      "6200   123526.1    Q      AR  NGDP_R_SA_XDC         6      2004         P3M   \n",
      "6201   125160.1    Q      AR  NGDP_R_SA_XDC         6      2004         P3M   \n",
      "6202   128805.7    Q      AR  NGDP_R_SA_XDC         6      2004         P3M   \n",
      "...         ...  ...     ...            ...       ...       ...         ...   \n",
      "3989  1115904.7    Q      ZA  NGDP_R_SA_XDC         6      2015         P3M   \n",
      "3990    1131186    Q      ZA  NGDP_R_SA_XDC         6      2015         P3M   \n",
      "3991    1150904    Q      ZA  NGDP_R_SA_XDC         6      2015         P3M   \n",
      "3992  1142402.5    Q      ZA  NGDP_R_SA_XDC         6      2015         P3M   \n",
      "3993  1160918.4    Q      ZA  NGDP_R_SA_XDC         6      2015         P3M   \n",
      "\n",
      "         PERIOD DESCRIPTION.XML_LANG  \\\n",
      "6198 2004-01-01                   en   \n",
      "6199 2004-04-01                   en   \n",
      "6200 2004-07-01                   en   \n",
      "6201 2004-10-01                   en   \n",
      "6202 2005-01-01                   en   \n",
      "...         ...                  ...   \n",
      "3989 2021-07-01                   en   \n",
      "3990 2021-10-01                   en   \n",
      "3991 2022-01-01                   en   \n",
      "3992 2022-04-01                   en   \n",
      "3993 2022-07-01                   en   \n",
      "\n",
      "                                            DESCRIPTION  \n",
      "6198  Gross Domestic Product, Real, Seasonally Adjus...  \n",
      "6199  Gross Domestic Product, Real, Seasonally Adjus...  \n",
      "6200  Gross Domestic Product, Real, Seasonally Adjus...  \n",
      "6201  Gross Domestic Product, Real, Seasonally Adjus...  \n",
      "6202  Gross Domestic Product, Real, Seasonally Adjus...  \n",
      "...                                                 ...  \n",
      "3989  Gross Domestic Product, Real, Seasonally Adjus...  \n",
      "3990  Gross Domestic Product, Real, Seasonally Adjus...  \n",
      "3991  Gross Domestic Product, Real, Seasonally Adjus...  \n",
      "3992  Gross Domestic Product, Real, Seasonally Adjus...  \n",
      "3993  Gross Domestic Product, Real, Seasonally Adjus...  \n",
      "\n",
      "[7580 rows x 10 columns]>\n",
      "(7580, 10)\n"
     ]
    }
   ],
   "source": [
    "ifs = IFS(search_terms=[\"NGDP_R_SA_XDC\"], countries=None, period='Q')\n",
    "\n",
    "\n",
    "\n",
    "\n",
    "df = ifs.download_data()\n",
    "print(df.head)\n",
    "print(df.shape)\n",
    "\n"
   ]
  },
  {
   "cell_type": "code",
   "execution_count": 3,
   "id": "70214138",
   "metadata": {},
   "outputs": [
    {
     "name": "stderr",
     "output_type": "stream",
     "text": [
      "2023-02-13 21:50:43,049 imf.py:59 - INFO - Inputs: series = 'IFS', countries = ['US']\n",
      "2023-02-13 21:50:54,483 imf.py:139 - INFO - Output all IMF series in a (259, 11) table to ..\\out\\series_imf.csv\n",
      "2023-02-13 21:50:54,551 imf.py:141 - INFO - Output series containing 'IFS' in a (49, 11) table to ..\\out\\series_ifs.csv\n",
      "2023-02-13 21:52:26,786 imf.py:166 - INFO - Output dimension CL_FREQ_IFS in a (3, 2) table to ..\\out\\dim_cl_freq_ifs.csv\n",
      "2023-02-13 21:52:33,359 imf.py:166 - INFO - Output dimension CL_AREA_IFS in a (278, 3) table to ..\\out\\dim_cl_area_ifs.csv\n",
      "2023-02-13 21:52:39,928 imf.py:166 - INFO - Output dimension CL_INDICATOR_IFS in a (1679, 3) table to ..\\out\\dim_cl_indicator_ifs.csv\n",
      "2023-02-13 21:52:46,721 imf.py:187 - INFO - Output meta data of IFS in a (1679, 3) table to ..\\out\\meta_ifs.csv\n",
      "2023-02-13 21:52:46,758 imf.py:189 - INFO - Output meta data of IFS with search search_terms None in a (1679, 3) table to ..\\out\\meta__US_Q.csv\n",
      "2023-02-13 21:52:53,302 imf.py:621 - WARNING - Request for IMF data failed for area code, US: url = 'http://dataservices.imf.org/REST/SDMX_JSON.svc/CompactData/IFS/Q.US.NFIAXD_XDC+NFIAXD_SA_XDC+NFIAXD_NSA_XDC+NFIAXD_R_XDC+NFIAXD_R_SA_XDC'.\n",
      "2023-02-13 21:53:20,513 imf.py:621 - WARNING - Request for IMF data failed for area code, US: url = 'http://dataservices.imf.org/REST/SDMX_JSON.svc/CompactData/IFS/Q.US.FASAFEA_EUR+FASABEA_EUR+FASAOFEA_EUR+FASAOEA_EUR+FASAOPEA_EUR'.\n",
      "2023-02-13 21:53:27,086 imf.py:621 - WARNING - Request for IMF data failed for area code, US: url = 'http://dataservices.imf.org/REST/SDMX_JSON.svc/CompactData/IFS/Q.US.FASAONEA_EUR+FASAOSEA_EUR+FASMBCEA_EUR+FASDOEA_EUR+FASDSSEA_EUR'.\n",
      "2023-02-13 21:53:33,766 imf.py:621 - WARNING - Request for IMF data failed for area code, US: url = 'http://dataservices.imf.org/REST/SDMX_JSON.svc/CompactData/IFS/Q.US.FASDSDEA_EUR+FASFDEA_EUR+FASLGEA_EUR+FASLFEA_EUR+FASLDEA_EUR'.\n",
      "2023-02-13 21:53:40,507 imf.py:621 - WARNING - Request for IMF data failed for area code, US: url = 'http://dataservices.imf.org/REST/SDMX_JSON.svc/CompactData/IFS/Q.US.FASLEA_EUR+FASMBEA_EUR+FASGEA_EUR+FASFEA_EUR+FASODEA_EUR'.\n",
      "2023-02-13 21:53:47,154 imf.py:621 - WARNING - Request for IMF data failed for area code, US: url = 'http://dataservices.imf.org/REST/SDMX_JSON.svc/CompactData/IFS/Q.US.FASOEA_EUR+FASOLDEA_EUR+FASLSEA_EUR+FASDSOEA_EUR+FASEEA_EUR'.\n",
      "2023-02-13 21:54:22,698 imf.py:621 - WARNING - Request for IMF data failed for area code, US: url = 'http://dataservices.imf.org/REST/SDMX_JSON.svc/CompactData/IFS/Q.US.FDSADGEA_EUR+FDSAOFEA_EUR+FDSAOPEA_EUR+FDSAONEA_EUR+FDSAOGEA_EUR'.\n",
      "2023-02-13 21:54:29,341 imf.py:621 - WARNING - Request for IMF data failed for area code, US: url = 'http://dataservices.imf.org/REST/SDMX_JSON.svc/CompactData/IFS/Q.US.FDSDXEA_EUR+FDSFDEA_EUR+FDSIEA_EUR+FDSLEA_EUR+FDSDGEA_EUR'.\n",
      "2023-02-13 21:57:50,872 imf.py:621 - WARNING - Request for IMF data failed for area code, US: url = 'http://dataservices.imf.org/REST/SDMX_JSON.svc/CompactData/IFS/Q.US.FPESP_EOP_IX+FPESP_IX+FIGBY_PA+FII_3M_PA+FIACF_PA'.\n",
      "2023-02-13 21:58:07,512 imf.py:621 - WARNING - Request for IMF data failed for area code, US: url = 'http://dataservices.imf.org/REST/SDMX_JSON.svc/CompactData/IFS/Q.US.FIDR_FX_USD_PA+FIDR_FX_PA+FIDR_ON_PA+FIDR_PA+FID_FX_PA'.\n",
      "2023-02-13 21:58:34,099 imf.py:621 - WARNING - Request for IMF data failed for area code, US: url = 'http://dataservices.imf.org/REST/SDMX_JSON.svc/CompactData/IFS/Q.US.FIH_NFC_L_1Y_PA+FIHN_HH_D_AM_1Y_PA+FIHN_HH_D_FX_PA+FIHN_HH_D_NC_PA+FIHN_NFC_D_AM_1Y_PA'.\n",
      "2023-02-13 21:58:40,620 imf.py:621 - WARNING - Request for IMF data failed for area code, US: url = 'http://dataservices.imf.org/REST/SDMX_JSON.svc/CompactData/IFS/Q.US.FIHN_NFC_D_FX_PA+FIHN_NFC_D_NC_PA+FIHN_HH_L_CO_1Y_PA+FIHN_HH_L_FX_PA+FIHN_HH_L_HP_O5Y_PA'.\n",
      "2023-02-13 21:58:47,302 imf.py:621 - WARNING - Request for IMF data failed for area code, US: url = 'http://dataservices.imf.org/REST/SDMX_JSON.svc/CompactData/IFS/Q.US.FIHN_HH_L_NC_PA+FIHN_NFC_L_FX_PA+FIHN_NFC_L_NC_PA+FIHN_NFC_L_OT_O1MILL_1Y_PA+FIHN_NFC_L_OT_O1MILL_3M_1Y_PA'.\n",
      "2023-02-13 21:58:53,838 imf.py:621 - WARNING - Request for IMF data failed for area code, US: url = 'http://dataservices.imf.org/REST/SDMX_JSON.svc/CompactData/IFS/Q.US.FIHO_HH_D_AM_2Y_PA+FIHO_NFC_D_AM_2Y_PA+FIHO_NFC_D_RP_PA+FIRAK_PA+FILR_FX_EUR_PA'.\n",
      "2023-02-13 21:59:20,728 imf.py:621 - WARNING - Request for IMF data failed for area code, US: url = 'http://dataservices.imf.org/REST/SDMX_JSON.svc/CompactData/IFS/Q.US.FIR_PA+FIRA_PA+FIRAR_PA+FISR_FX_PA+FISR_PA'.\n",
      "2023-02-13 21:59:33,735 imf.py:621 - WARNING - Request for IMF data failed for area code, US: url = 'http://dataservices.imf.org/REST/SDMX_JSON.svc/CompactData/IFS/Q.US.BCG_GAAFCD_G01_XDC+BCG_GADAFCD_T_G01_XDC+BCG_GAAFD_G01_XDC+BCG_GADAFD_T_G01_XDC+BCG_GAAFFD_G01_XDC'.\n",
      "2023-02-13 22:08:56,463 imf.py:621 - WARNING - Request for IMF data failed for area code, US: url = 'http://dataservices.imf.org/REST/SDMX_JSON.svc/CompactData/IFS/Q.US.NCGGC_R_XDC+NCGGC_R_SA_XDC+NCGGC_R_NSA_XDC+NCGGI_XDC+NCGGI_SA_XDC'.\n",
      "2023-02-13 22:09:05,859 imf.py:621 - WARNING - Request for IMF data failed for area code, US: url = 'http://dataservices.imf.org/REST/SDMX_JSON.svc/CompactData/IFS/Q.US.NCGGI_NSA_XDC+NCGGI_R_XDC+NCGGI_R_SA_XDC+NCGGI_R_NSA_XDC+NCGG_XDC'.\n",
      "2023-02-13 22:11:01,323 imf.py:621 - WARNING - Request for IMF data failed for area code, US: url = 'http://dataservices.imf.org/REST/SDMX_JSON.svc/CompactData/IFS/Q.US._4__D_USD+_7E_D_USD+_7F_D_USD+_7K_D_USD+_7M_D_USD'.\n",
      "2023-02-13 22:12:11,613 imf.py:621 - WARNING - Request for IMF data failed for area code, US: url = 'http://dataservices.imf.org/REST/SDMX_JSON.svc/CompactData/IFS/Q.US.25A___XDC+25B___XDC+25AA__XDC+25AB__XDC+26D___XDC'.\n",
      "2023-02-13 22:12:25,162 imf.py:621 - WARNING - Request for IMF data failed for area code, US: url = 'http://dataservices.imf.org/REST/SDMX_JSON.svc/CompactData/IFS/Q.US.22AN__XDC+20N___XDC+20C___XDC+22G___XDC+22G___EUR'.\n",
      "2023-02-13 22:14:06,342 imf.py:621 - WARNING - Request for IMF data failed for area code, US: url = 'http://dataservices.imf.org/REST/SDMX_JSON.svc/CompactData/IFS/Q.US.57A___XDC+52AN__XDC+52BX__XDC+52D___XDC+52B___XDC'.\n",
      "2023-02-13 22:14:12,934 imf.py:621 - WARNING - Request for IMF data failed for area code, US: url = 'http://dataservices.imf.org/REST/SDMX_JSON.svc/CompactData/IFS/Q.US.52____XDC+51N___XDC+56CL__XDC+55L___XDC+57R___XDC'.\n",
      "2023-02-13 22:14:19,495 imf.py:621 - WARNING - Request for IMF data failed for area code, US: url = 'http://dataservices.imf.org/REST/SDMX_JSON.svc/CompactData/IFS/Q.US.56B___XDC+56AB__XDC+56AC__XDC+FMA_XDC+FMA_EUR'.\n",
      "2023-02-13 22:17:15,039 imf.py:621 - WARNING - Request for IMF data failed for area code, US: url = 'http://dataservices.imf.org/REST/SDMX_JSON.svc/CompactData/IFS/Q.US.26J___XDR+26D_I_XDC+26C_I_XDC+24__R_XDC+22D_I_XDC'.\n",
      "2023-02-13 22:18:47,775 imf.py:621 - WARNING - Request for IMF data failed for area code, US: url = 'http://dataservices.imf.org/REST/SDMX_JSON.svc/CompactData/IFS/Q.US.FDSDEA_EUR+FDSDAEA_EUR+FDSLGEA_EUR+FDSLFEA_EUR+FDSFEA_EUR'.\n",
      "2023-02-13 22:18:54,520 imf.py:621 - WARNING - Request for IMF data failed for area code, US: url = 'http://dataservices.imf.org/REST/SDMX_JSON.svc/CompactData/IFS/Q.US.FDSODEA_EUR+FDSOIEA_EUR+FDSLSEA_EUR+FDSOSEA_EUR+FDSFD_XDC'.\n",
      "2023-02-13 22:21:10,602 imf.py:621 - WARNING - Request for IMF data failed for area code, US: url = 'http://dataservices.imf.org/REST/SDMX_JSON.svc/CompactData/IFS/Q.US.FML_SA_XDC+FML_SA_USD+FML_USD+FM0_SA_XDC+FM3_A2_SA_XDC'.\n",
      "2023-02-13 22:21:17,105 imf.py:621 - WARNING - Request for IMF data failed for area code, US: url = 'http://dataservices.imf.org/REST/SDMX_JSON.svc/CompactData/IFS/Q.US.FM3_A3_XDC+FM3_A4_XDC+FM4_A1_XDC+FM4_A2_XDC+FM4_A3_XDC'.\n",
      "2023-02-13 22:21:23,639 imf.py:621 - WARNING - Request for IMF data failed for area code, US: url = 'http://dataservices.imf.org/REST/SDMX_JSON.svc/CompactData/IFS/Q.US.FM5B_A1_SA_XDC+FM5B_XDC+FM5B_USD+FM5_XDC+FMVB_IX'.\n",
      "2023-02-13 22:22:00,245 imf.py:621 - WARNING - Request for IMF data failed for area code, US: url = 'http://dataservices.imf.org/REST/SDMX_JSON.svc/CompactData/IFS/Q.US.12AX__XDC+12E___XDC+12E___EUR+12G___XDC+12G___EUR'.\n",
      "2023-02-13 22:23:21,111 imf.py:621 - WARNING - Request for IMF data failed for area code, US: url = 'http://dataservices.imf.org/REST/SDMX_JSON.svc/CompactData/IFS/Q.US.37AR__XDC+36F___XDC+36DG__XDC+32AN__XDC+32AN__EUR'.\n"
     ]
    },
    {
     "name": "stderr",
     "output_type": "stream",
     "text": [
      "2023-02-13 22:25:08,165 imf.py:621 - WARNING - Request for IMF data failed for area code, US: url = 'http://dataservices.imf.org/REST/SDMX_JSON.svc/CompactData/IFS/Q.US.46D___XDC+46F___XDC+42A___XDC+42AN__XDC+42A__V2_XDC'.\n",
      "2023-02-13 22:25:14,944 imf.py:621 - WARNING - Request for IMF data failed for area code, US: url = 'http://dataservices.imf.org/REST/SDMX_JSON.svc/CompactData/IFS/Q.US.42E___XDC+40C___XDC+42BX__XDC+42D___XDC+42D__V1_XDC'.\n",
      "2023-02-13 22:25:21,391 imf.py:621 - WARNING - Request for IMF data failed for area code, US: url = 'http://dataservices.imf.org/REST/SDMX_JSON.svc/CompactData/IFS/Q.US.42B___XDC+46G___XDC+46H___XDC+44____XDC+44Y___XDC'.\n",
      "2023-02-13 22:25:28,052 imf.py:621 - WARNING - Request for IMF data failed for area code, US: url = 'http://dataservices.imf.org/REST/SDMX_JSON.svc/CompactData/IFS/Q.US.44X___XDC+42H_S_XDC+41____XDC+41N___XDC+41___V2_XDC'.\n",
      "2023-02-13 22:25:34,499 imf.py:621 - WARNING - Request for IMF data failed for area code, US: url = 'http://dataservices.imf.org/REST/SDMX_JSON.svc/CompactData/IFS/Q.US.46C___XDC+46CL__XDC+46C__V2_XDC+49Z__V1_XDC+45L___XDC'.\n",
      "2023-02-13 22:25:40,973 imf.py:621 - WARNING - Request for IMF data failed for area code, US: url = 'http://dataservices.imf.org/REST/SDMX_JSON.svc/CompactData/IFS/Q.US.47R___XDC+40____XDC+46AB__XDC+46AA__XDC+45____XDC'.\n",
      "2023-02-13 22:26:28,539 imf.py:621 - WARNING - Request for IMF data failed for area code, US: url = 'http://dataservices.imf.org/REST/SDMX_JSON.svc/CompactData/IFS/Q.US.46DG__XDC+42A__V1_XDC+42E__V1_XDC+42C__V1_XDC+42CG__XDC'.\n",
      "2023-02-13 22:26:34,979 imf.py:621 - WARNING - Request for IMF data failed for area code, US: url = 'http://dataservices.imf.org/REST/SDMX_JSON.svc/CompactData/IFS/Q.US.42B__V1_XDC+42BX_V1_XDC+46G__V1_XDC+46H__V1_XDC+44___V1_XDC'.\n",
      "2023-02-13 22:26:44,844 imf.py:621 - WARNING - Request for IMF data failed for area code, US: url = 'http://dataservices.imf.org/REST/SDMX_JSON.svc/CompactData/IFS/Q.US.41___V1_XDC+46C__V1_XDC+46CL_V1_XDC+47D__V1_XDC+47R__V1_XDC'.\n",
      "2023-02-13 22:30:43,209 imf.py:621 - WARNING - Request for IMF data failed for area code, US: url = 'http://dataservices.imf.org/REST/SDMX_JSON.svc/CompactData/IFS/Q.US.FOSAFEA_EUR+FOSAOFEA_EUR+FOSAOEA_EUR+FOSAOPEA_EUR+FOSAONEA_EUR'.\n",
      "2023-02-13 22:30:49,899 imf.py:621 - WARNING - Request for IMF data failed for area code, US: url = 'http://dataservices.imf.org/REST/SDMX_JSON.svc/CompactData/IFS/Q.US.FOSAOGEA_EUR+FOSAACEA_EUR+FOSDEA_EUR+FOSDXEA_EUR+FOSFDEA_EUR'.\n",
      "2023-02-13 22:30:56,556 imf.py:621 - WARNING - Request for IMF data failed for area code, US: url = 'http://dataservices.imf.org/REST/SDMX_JSON.svc/CompactData/IFS/Q.US.FOSIEA_EUR+FOSLGEA_EUR+FOSLAEA_EUR+FOSLFEA_EUR+FOSLEA_EUR'.\n",
      "2023-02-13 22:31:02,973 imf.py:621 - WARNING - Request for IMF data failed for area code, US: url = 'http://dataservices.imf.org/REST/SDMX_JSON.svc/CompactData/IFS/Q.US.FOSGEA_EUR+FOSFEA_EUR+FOSAAOEA_EUR+FOSODEA_EUR+FOSOEA_EUR'.\n",
      "2023-02-13 22:31:13,350 imf.py:621 - WARNING - Request for IMF data failed for area code, US: url = 'http://dataservices.imf.org/REST/SDMX_JSON.svc/CompactData/IFS/Q.US.FOSAAREA_EUR+FOSSEA_EUR+FOSSXEA_EUR+FOSEEA_EUR+LP_PE_NUM'.\n",
      "2023-02-13 22:32:45,021 imf.py:212 - INFO - Output data of IFS containing '' in a (95993, 12) table to ..\\out\\data__US_Q.csv\n"
     ]
    },
    {
     "name": "stdout",
     "output_type": "stream",
     "text": [
      "<bound method NDFrame.head of       STATUS              VALUE FREQ COUNTRY                  ID UNIT_MULT  \\\n",
      "74628    NaN              22326    Q      US           11____USD         6   \n",
      "74629    NaN              22176    Q      US           11____USD         6   \n",
      "74630    NaN              22647    Q      US           11____USD         6   \n",
      "74631    NaN              21820    Q      US           11____USD         6   \n",
      "74632    NaN              21350    Q      US           11____USD         6   \n",
      "...      ...                ...  ...     ...                 ...       ...   \n",
      "16739    NaN  -3.83912248628884    Q      US  TXG_R_FOB_PC_PP_PT         0   \n",
      "16740    NaN  -23.1305449936629    Q      US  TXG_R_FOB_PC_PP_PT         0   \n",
      "16741    NaN    17.724649629019    Q      US  TXG_R_FOB_PC_PP_PT         0   \n",
      "16742    NaN   9.52380952380952    Q      US  TXG_R_FOB_PC_PP_PT         0   \n",
      "16743    NaN  -2.81329923273657    Q      US  TXG_R_FOB_PC_PP_PT         0   \n",
      "\n",
      "      TIME_FORMAT     PERIOD BASE_YEAR OBS_STATUS DESCRIPTION.XML_LANG  \\\n",
      "74628         P3M 1950-10-01       NaN        NaN                   en   \n",
      "74629         P3M 1951-10-01       NaN        NaN                   en   \n",
      "74630         P3M 1952-10-01       NaN        NaN                   en   \n",
      "74631         P3M 1953-10-01       NaN        NaN                   en   \n",
      "74632         P3M 1954-10-01       NaN        NaN                   en   \n",
      "...           ...        ...       ...        ...                  ...   \n",
      "16739         P3M 2020-01-01       NaN        NaN                   en   \n",
      "16740         P3M 2020-04-01       NaN        NaN                   en   \n",
      "16741         P3M 2020-07-01       NaN        NaN                   en   \n",
      "16742         P3M 2020-10-01       NaN        NaN                   en   \n",
      "16743         P3M 2021-01-01       NaN        NaN                   en   \n",
      "\n",
      "                                             DESCRIPTION  \n",
      "74628  Monetary, Monetary Authorities, Foreign Assets...  \n",
      "74629  Monetary, Monetary Authorities, Foreign Assets...  \n",
      "74630  Monetary, Monetary Authorities, Foreign Assets...  \n",
      "74631  Monetary, Monetary Authorities, Foreign Assets...  \n",
      "74632  Monetary, Monetary Authorities, Foreign Assets...  \n",
      "...                                                  ...  \n",
      "16739  External Trade, Goods, Volume of Exports, Free...  \n",
      "16740  External Trade, Goods, Volume of Exports, Free...  \n",
      "16741  External Trade, Goods, Volume of Exports, Free...  \n",
      "16742  External Trade, Goods, Volume of Exports, Free...  \n",
      "16743  External Trade, Goods, Volume of Exports, Free...  \n",
      "\n",
      "[95993 rows x 12 columns]>\n",
      "(95993, 12)\n"
     ]
    }
   ],
   "source": [
    "ifs = IFS(search_terms=None, countries=[\"US\"], period='Q')\n",
    "df = ifs.download_data()\n",
    "print(df.head)\n",
    "print(df.shape)"
   ]
  },
  {
   "cell_type": "code",
   "execution_count": null,
   "id": "4ecfebeb",
   "metadata": {},
   "outputs": [],
   "source": []
  }
 ],
 "metadata": {
  "kernelspec": {
   "display_name": "imfdatapy",
   "language": "python",
   "name": "imfdatapy"
  },
  "language_info": {
   "codemirror_mode": {
    "name": "ipython",
    "version": 3
   },
   "file_extension": ".py",
   "mimetype": "text/x-python",
   "name": "python",
   "nbconvert_exporter": "python",
   "pygments_lexer": "ipython3",
   "version": "3.10.9"
  }
 },
 "nbformat": 4,
 "nbformat_minor": 5
}
