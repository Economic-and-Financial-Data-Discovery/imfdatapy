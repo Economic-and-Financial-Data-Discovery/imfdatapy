{
 "cells": [
  {
   "cell_type": "code",
   "execution_count": 1,
   "id": "4118b20b",
   "metadata": {
    "scrolled": true
   },
   "outputs": [],
   "source": [
    "from imfdatapy.imf import *"
   ]
  },
  {
   "cell_type": "code",
   "execution_count": 2,
   "id": "f5fef20c",
   "metadata": {},
   "outputs": [],
   "source": [
    "pd.options.display.max_colwidth = 90"
   ]
  },
  {
   "cell_type": "markdown",
   "id": "929ee069",
   "metadata": {},
   "source": [
    "The following use case shows how to change default output directory name and log directory name."
   ]
  },
  {
   "cell_type": "code",
   "execution_count": 3,
   "id": "bbe277e1-0658-47ef-af56-9e8d32da6fb1",
   "metadata": {},
   "outputs": [
    {
     "name": "stderr",
     "output_type": "stream",
     "text": [
      "2023-05-07 14:12:11,394 imf_log.py:44 - INFO - Current directory /Users/terrya/Documents/ProgramData/imfdatapy/demo\n",
      "2023-05-07 14:12:11,394 imf_log.py:45 - INFO - Started log file in ./my_log_directory/imfdatapy_2023-05-07-14-12-11.log\n",
      "2023-05-07 14:12:11,394 imf.py:69 - INFO - Inputs: series = 'IFS', search_terms = ['Gross Domestic Product, Real'], countries = ['US', 'DE'], start_date = '2000', end_date = '2022', outdir = 'my_output_directory', logdir = 'my_log_directory', is_log_to_screen = True\n",
      "2023-05-07 14:12:15,481 imf.py:150 - INFO - Output all IMF series in a (323, 11) table to ./my_output_directory/series_imf.csv\n",
      "2023-05-07 14:12:15,499 imf.py:152 - INFO - Output series containing 'IFS' in a (72, 11) table to ./my_output_directory/series_ifs.csv\n",
      "2023-05-07 14:13:43,293 imf.py:179 - INFO - Output dimension CL_FREQ_IFS in a (3, 2) table to ./my_output_directory/dim_cl_freq_ifs.csv\n",
      "2023-05-07 14:13:47,139 imf.py:179 - INFO - Output dimension CL_AREA_IFS in a (278, 3) table to ./my_output_directory/dim_cl_area_ifs.csv\n",
      "2023-05-07 14:13:50,715 imf.py:179 - INFO - Output dimension CL_INDICATOR_IFS in a (1679, 3) table to ./my_output_directory/dim_cl_indicator_ifs.csv\n",
      "2023-05-07 14:13:54,712 imf.py:201 - INFO - Output meta data of IFS in a (1679, 3) table to ./my_output_directory/meta_ifs.csv\n",
      "2023-05-07 14:13:58,363 imf.py:204 - INFO - Output meta data of IFS with search search_terms ['Gross Domestic Product, Real'] in a (3, 3) table to ./my_output_directory/meta_Gross Domestic Product, Real_US_DE_Q_2000_2022.csv\n",
      "2023-05-07 14:14:05,957 imf.py:229 - INFO - Output data of IFS containing 'Gross Domestic Product, Real' in a (360, 10) table to ./my_output_directory/data_Gross Domestic Product, Real_US_DE_Q_2000_2022.csv\n"
     ]
    },
    {
     "data": {
      "text/html": [
       "<div>\n",
       "<style scoped>\n",
       "    .dataframe tbody tr th:only-of-type {\n",
       "        vertical-align: middle;\n",
       "    }\n",
       "\n",
       "    .dataframe tbody tr th {\n",
       "        vertical-align: top;\n",
       "    }\n",
       "\n",
       "    .dataframe thead th {\n",
       "        text-align: right;\n",
       "    }\n",
       "</style>\n",
       "<table border=\"1\" class=\"dataframe\">\n",
       "  <thead>\n",
       "    <tr style=\"text-align: right;\">\n",
       "      <th></th>\n",
       "      <th>VALUE</th>\n",
       "      <th>FREQ</th>\n",
       "      <th>COUNTRY</th>\n",
       "      <th>ID</th>\n",
       "      <th>UNIT_MULT</th>\n",
       "      <th>BASE_YEAR</th>\n",
       "      <th>TIME_FORMAT</th>\n",
       "      <th>PERIOD</th>\n",
       "      <th>DESCRIPTION.XML_LANG</th>\n",
       "      <th>DESCRIPTION</th>\n",
       "    </tr>\n",
       "  </thead>\n",
       "  <tbody>\n",
       "    <tr>\n",
       "      <th>0</th>\n",
       "      <td>576658.9097297</td>\n",
       "      <td>Q</td>\n",
       "      <td>DE</td>\n",
       "      <td>NGDP_R_NSA_XDC</td>\n",
       "      <td>6</td>\n",
       "      <td>2010</td>\n",
       "      <td>P3M</td>\n",
       "      <td>2000-01-01</td>\n",
       "      <td>en</td>\n",
       "      <td>Gross Domestic Product, Real, Unadjusted, Domestic Currency</td>\n",
       "    </tr>\n",
       "    <tr>\n",
       "      <th>1</th>\n",
       "      <td>584744.53986675</td>\n",
       "      <td>Q</td>\n",
       "      <td>DE</td>\n",
       "      <td>NGDP_R_NSA_XDC</td>\n",
       "      <td>6</td>\n",
       "      <td>2010</td>\n",
       "      <td>P3M</td>\n",
       "      <td>2000-04-01</td>\n",
       "      <td>en</td>\n",
       "      <td>Gross Domestic Product, Real, Unadjusted, Domestic Currency</td>\n",
       "    </tr>\n",
       "    <tr>\n",
       "      <th>2</th>\n",
       "      <td>591714.91226307</td>\n",
       "      <td>Q</td>\n",
       "      <td>DE</td>\n",
       "      <td>NGDP_R_NSA_XDC</td>\n",
       "      <td>6</td>\n",
       "      <td>2010</td>\n",
       "      <td>P3M</td>\n",
       "      <td>2000-07-01</td>\n",
       "      <td>en</td>\n",
       "      <td>Gross Domestic Product, Real, Unadjusted, Domestic Currency</td>\n",
       "    </tr>\n",
       "    <tr>\n",
       "      <th>3</th>\n",
       "      <td>601403.73404</td>\n",
       "      <td>Q</td>\n",
       "      <td>DE</td>\n",
       "      <td>NGDP_R_NSA_XDC</td>\n",
       "      <td>6</td>\n",
       "      <td>2010</td>\n",
       "      <td>P3M</td>\n",
       "      <td>2000-10-01</td>\n",
       "      <td>en</td>\n",
       "      <td>Gross Domestic Product, Real, Unadjusted, Domestic Currency</td>\n",
       "    </tr>\n",
       "    <tr>\n",
       "      <th>4</th>\n",
       "      <td>589275.279621</td>\n",
       "      <td>Q</td>\n",
       "      <td>DE</td>\n",
       "      <td>NGDP_R_NSA_XDC</td>\n",
       "      <td>6</td>\n",
       "      <td>2010</td>\n",
       "      <td>P3M</td>\n",
       "      <td>2001-01-01</td>\n",
       "      <td>en</td>\n",
       "      <td>Gross Domestic Product, Real, Unadjusted, Domestic Currency</td>\n",
       "    </tr>\n",
       "  </tbody>\n",
       "</table>\n",
       "</div>"
      ],
      "text/plain": [
       "             VALUE FREQ COUNTRY              ID UNIT_MULT BASE_YEAR  \\\n",
       "0   576658.9097297    Q      DE  NGDP_R_NSA_XDC         6      2010   \n",
       "1  584744.53986675    Q      DE  NGDP_R_NSA_XDC         6      2010   \n",
       "2  591714.91226307    Q      DE  NGDP_R_NSA_XDC         6      2010   \n",
       "3     601403.73404    Q      DE  NGDP_R_NSA_XDC         6      2010   \n",
       "4    589275.279621    Q      DE  NGDP_R_NSA_XDC         6      2010   \n",
       "\n",
       "  TIME_FORMAT     PERIOD DESCRIPTION.XML_LANG  \\\n",
       "0         P3M 2000-01-01                   en   \n",
       "1         P3M 2000-04-01                   en   \n",
       "2         P3M 2000-07-01                   en   \n",
       "3         P3M 2000-10-01                   en   \n",
       "4         P3M 2001-01-01                   en   \n",
       "\n",
       "                                                   DESCRIPTION  \n",
       "0  Gross Domestic Product, Real, Unadjusted, Domestic Currency  \n",
       "1  Gross Domestic Product, Real, Unadjusted, Domestic Currency  \n",
       "2  Gross Domestic Product, Real, Unadjusted, Domestic Currency  \n",
       "3  Gross Domestic Product, Real, Unadjusted, Domestic Currency  \n",
       "4  Gross Domestic Product, Real, Unadjusted, Domestic Currency  "
      ]
     },
     "execution_count": 3,
     "metadata": {},
     "output_type": "execute_result"
    }
   ],
   "source": [
    "imf = IMF(search_terms=[\"Gross Domestic Product, Real\"], countries=[\"US\", \"DE\"],\n",
    "          period='Q', start_date=\"2000\", end_date=\"2022\", \n",
    "          outdir='my_output_directory', logdir='my_log_directory')\n",
    "df = imf.download_data()\n",
    "df.head()"
   ]
  },
  {
   "cell_type": "markdown",
   "id": "56bd0281",
   "metadata": {},
   "source": [
    "The following use case shows how to turn of log to screen."
   ]
  },
  {
   "cell_type": "code",
   "execution_count": null,
   "id": "16114fdd",
   "metadata": {},
   "outputs": [],
   "source": [
    "imf = IMF(search_terms=[\"Gross Domestic Product, Real\"], countries=[\"US\", \"DE\"],\n",
    "              period='Q', start_date=\"2000\", end_date=\"2022\", \n",
    "          outdir='my_output_directory', logdir='my_log_directory', is_log_to_screen=False)\n",
    "df = imf.download_data()\n",
    "df.head()"
   ]
  }
 ],
 "metadata": {
  "kernelspec": {
   "display_name": "imfdatapy",
   "language": "python",
   "name": "imfdatapy"
  },
  "language_info": {
   "codemirror_mode": {
    "name": "ipython",
    "version": 3
   },
   "file_extension": ".py",
   "mimetype": "text/x-python",
   "name": "python",
   "nbconvert_exporter": "python",
   "pygments_lexer": "ipython3",
   "version": "3.10.9"
  }
 },
 "nbformat": 4,
 "nbformat_minor": 5
}
