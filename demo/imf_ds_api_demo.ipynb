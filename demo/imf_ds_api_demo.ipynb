{
 "cells": [
  {
   "cell_type": "code",
   "execution_count": 1,
   "id": "55468d8a",
   "metadata": {},
   "outputs": [],
   "source": [
    "from imf.imf_ds import ifs_get_data"
   ]
  },
  {
   "cell_type": "code",
   "execution_count": 2,
   "id": "d421bf61",
   "metadata": {},
   "outputs": [
    {
     "name": "stdout",
     "output_type": "stream",
     "text": [
      "                                          Description           ID\n",
      "47           International Financial Statistics (IFS)          IFS\n",
      "4   International Financial Statistics (IFS), 2017...  IFS_2017M08\n",
      "33  International Financial Statistics (IFS), 2017...  IFS_2017M09\n",
      "19  International Financial Statistics (IFS), 2017...  IFS_2017M10\n",
      "16  International Financial Statistics (IFS), 2017...  IFS_2017M11\n",
      "   Dimension                ID\n",
      "0          1           CL_FREQ\n",
      "1          2       CL_AREA_IFS\n",
      "2          3  CL_INDICATOR_IFS\n",
      "                                         Description              ID\n",
      "0    Gross Domestic Product, Real, Domestic Currency      NGDP_R_XDC\n",
      "1  Gross Domestic Product, Real, Seasonally Adjus...   NGDP_R_SA_XDC\n",
      "2  Gross Domestic Product, Real, Unadjusted, Dome...  NGDP_R_NSA_XDC\n",
      "/Users/terrya/Documents/ProgramData/IMF_data_discovery/demo\n"
     ]
    }
   ],
   "source": [
    "df = ifs_get_data(search_terms=[\"Gross Domestic Product, Real\"], countries=[\"US\", \"DE\"],\n",
    "                      period='Q', start_time=\"2000\", end_time=\"2022\")"
   ]
  },
  {
   "cell_type": "code",
   "execution_count": null,
   "id": "ca3fa2e7",
   "metadata": {},
   "outputs": [],
   "source": []
  }
 ],
 "metadata": {
  "kernelspec": {
   "display_name": "imf",
   "language": "python",
   "name": "imf"
  },
  "language_info": {
   "codemirror_mode": {
    "name": "ipython",
    "version": 3
   },
   "file_extension": ".py",
   "mimetype": "text/x-python",
   "name": "python",
   "nbconvert_exporter": "python",
   "pygments_lexer": "ipython3",
   "version": "3.10.6"
  }
 },
 "nbformat": 4,
 "nbformat_minor": 5
}
