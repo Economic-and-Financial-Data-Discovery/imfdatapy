{
 "cells": [
  {
   "cell_type": "markdown",
   "metadata": {
    "id": "xfA0de301sgl"
   },
   "source": [
    "# Existing packages for data extraction from the IMF\n",
    "\n",
    "Currently, there are these packages: \n",
    "\n",
    "\n",
    "1.   [**imfpy**](https://pypi.org/project/imfpy/) extracts DoTS data. \n",
    "2.   [**PyIMF**](https://pypi.org/project/PyIMF/) searches through series, dimensions and requests data given series and index code.\n",
    "3.   [**datapungi_imf**](https://pypi.org/project/datapungi_imf/#description) is not well documented; it is unclear how to use it. Seems like the user must input the index codes.\n",
    "4.   [**imf**](https://pypi.org/project/imf/) - empty, created in May 2020\n",
    "\n",
    "We will go through each to understand their functionality and how they are created."
   ]
  },
  {
   "cell_type": "markdown",
   "metadata": {
    "id": "MV6UBzYm2QlQ"
   },
   "source": [
    "## imf"
   ]
  },
  {
   "cell_type": "code",
   "execution_count": 1,
   "metadata": {
    "colab": {
     "base_uri": "https://localhost:8080/"
    },
    "id": "WupsFpqw2OHX",
    "outputId": "bdcdfda8-2025-4dba-f13e-65c3703833d7"
   },
   "outputs": [
    {
     "name": "stdout",
     "output_type": "stream",
     "text": [
      "Collecting imf\n",
      "  Downloading imf-0.0.1a0-py3-none-any.whl (2.0 kB)\n",
      "Requirement already satisfied: requests<3.0.0,>=2.23.0 in /Users/terrya/miniconda3/envs/imfdatapy/lib/python3.10/site-packages (from imf) (2.28.1)\n",
      "Requirement already satisfied: certifi>=2017.4.17 in /Users/terrya/miniconda3/envs/imfdatapy/lib/python3.10/site-packages (from requests<3.0.0,>=2.23.0->imf) (2022.12.7)\n",
      "Requirement already satisfied: idna<4,>=2.5 in /Users/terrya/miniconda3/envs/imfdatapy/lib/python3.10/site-packages (from requests<3.0.0,>=2.23.0->imf) (3.4)\n",
      "Requirement already satisfied: urllib3<1.27,>=1.21.1 in /Users/terrya/miniconda3/envs/imfdatapy/lib/python3.10/site-packages (from requests<3.0.0,>=2.23.0->imf) (1.26.14)\n",
      "Requirement already satisfied: charset-normalizer<3,>=2 in /Users/terrya/miniconda3/envs/imfdatapy/lib/python3.10/site-packages (from requests<3.0.0,>=2.23.0->imf) (2.1.1)\n",
      "Installing collected packages: imf\n",
      "Successfully installed imf-0.0.1a0\n"
     ]
    }
   ],
   "source": [
    "!pip install imf"
   ]
  },
  {
   "cell_type": "code",
   "execution_count": 2,
   "metadata": {
    "colab": {
     "base_uri": "https://localhost:8080/"
    },
    "id": "S3-J8Efj2Uki",
    "outputId": "6d93e184-adf5-435c-d5eb-1aed155fbfd5"
   },
   "outputs": [
    {
     "data": {
      "text/plain": [
       "['__builtins__',\n",
       " '__cached__',\n",
       " '__doc__',\n",
       " '__file__',\n",
       " '__loader__',\n",
       " '__name__',\n",
       " '__package__',\n",
       " '__path__',\n",
       " '__spec__',\n",
       " '__version__']"
      ]
     },
     "execution_count": 2,
     "metadata": {},
     "output_type": "execute_result"
    }
   ],
   "source": [
    "import imf\n",
    "dir(imf)"
   ]
  },
  {
   "cell_type": "markdown",
   "metadata": {
    "id": "C4kZk2iM3E52"
   },
   "source": [
    "Only special methods are present in the imf package. The [Github](https://github.com/nathanbegbie/imf) repository currently contains only set up files for the package."
   ]
  },
  {
   "cell_type": "markdown",
   "metadata": {
    "id": "_dED6TWo3z-n"
   },
   "source": [
    "## datapungi_imf"
   ]
  },
  {
   "cell_type": "code",
   "execution_count": 3,
   "metadata": {
    "colab": {
     "base_uri": "https://localhost:8080/"
    },
    "id": "H-Ns58-73zff",
    "outputId": "bb4f2682-a3c8-4203-ec3f-a6b0e1a83cfe"
   },
   "outputs": [
    {
     "name": "stdout",
     "output_type": "stream",
     "text": [
      "Collecting datapungi_imf\n",
      "  Downloading datapungi_imf-0.2.0-py2.py3-none-any.whl (55 kB)\n",
      "\u001b[2K     \u001b[90m━━━━━━━━━━━━━━━━━━━━━━━━━━━━━━━━━━━━━━━━\u001b[0m \u001b[32m55.7/55.7 kB\u001b[0m \u001b[31m2.8 MB/s\u001b[0m eta \u001b[36m0:00:00\u001b[0m\n",
      "\u001b[?25hCollecting xlrd\n",
      "  Downloading xlrd-2.0.1-py2.py3-none-any.whl (96 kB)\n",
      "\u001b[2K     \u001b[90m━━━━━━━━━━━━━━━━━━━━━━━━━━━━━━━━━━━━━━━━\u001b[0m \u001b[32m96.5/96.5 kB\u001b[0m \u001b[31m5.4 MB/s\u001b[0m eta \u001b[36m0:00:00\u001b[0m\n",
      "\u001b[?25hRequirement already satisfied: lxml in /Users/terrya/miniconda3/envs/imfdatapy/lib/python3.10/site-packages (from datapungi_imf) (4.9.2)\n",
      "Collecting pyperclip\n",
      "  Downloading pyperclip-1.8.2.tar.gz (20 kB)\n",
      "  Preparing metadata (setup.py) ... \u001b[?25ldone\n",
      "\u001b[?25hRequirement already satisfied: pyyaml in /Users/terrya/miniconda3/envs/imfdatapy/lib/python3.10/site-packages (from datapungi_imf) (6.0)\n",
      "Requirement already satisfied: pytest in /Users/terrya/miniconda3/envs/imfdatapy/lib/python3.10/site-packages (from datapungi_imf) (7.1.2)\n",
      "Collecting html5lib\n",
      "  Downloading html5lib-1.1-py2.py3-none-any.whl (112 kB)\n",
      "\u001b[2K     \u001b[90m━━━━━━━━━━━━━━━━━━━━━━━━━━━━━━━━━━━━━━━\u001b[0m \u001b[32m112.2/112.2 kB\u001b[0m \u001b[31m5.7 MB/s\u001b[0m eta \u001b[36m0:00:00\u001b[0m\n",
      "\u001b[?25hRequirement already satisfied: beautifulsoup4 in /Users/terrya/miniconda3/envs/imfdatapy/lib/python3.10/site-packages (from datapungi_imf) (4.11.2)\n",
      "Collecting pytest-html\n",
      "  Downloading pytest_html-3.2.0-py3-none-any.whl (16 kB)\n",
      "Requirement already satisfied: pandas in /Users/terrya/miniconda3/envs/imfdatapy/lib/python3.10/site-packages (from datapungi_imf) (1.4.4)\n",
      "Requirement already satisfied: requests in /Users/terrya/miniconda3/envs/imfdatapy/lib/python3.10/site-packages (from datapungi_imf) (2.28.1)\n",
      "Requirement already satisfied: soupsieve>1.2 in /Users/terrya/miniconda3/envs/imfdatapy/lib/python3.10/site-packages (from beautifulsoup4->datapungi_imf) (2.3.2.post1)\n",
      "Requirement already satisfied: webencodings in /Users/terrya/miniconda3/envs/imfdatapy/lib/python3.10/site-packages (from html5lib->datapungi_imf) (0.5.1)\n",
      "Requirement already satisfied: six>=1.9 in /Users/terrya/miniconda3/envs/imfdatapy/lib/python3.10/site-packages (from html5lib->datapungi_imf) (1.16.0)\n",
      "Requirement already satisfied: python-dateutil>=2.8.1 in /Users/terrya/miniconda3/envs/imfdatapy/lib/python3.10/site-packages (from pandas->datapungi_imf) (2.8.2)\n",
      "Requirement already satisfied: pytz>=2020.1 in /Users/terrya/miniconda3/envs/imfdatapy/lib/python3.10/site-packages (from pandas->datapungi_imf) (2022.7.1)\n",
      "Requirement already satisfied: numpy>=1.21.0 in /Users/terrya/miniconda3/envs/imfdatapy/lib/python3.10/site-packages (from pandas->datapungi_imf) (1.23.3)\n",
      "Requirement already satisfied: attrs>=19.2.0 in /Users/terrya/miniconda3/envs/imfdatapy/lib/python3.10/site-packages (from pytest->datapungi_imf) (22.2.0)\n",
      "Requirement already satisfied: iniconfig in /Users/terrya/miniconda3/envs/imfdatapy/lib/python3.10/site-packages (from pytest->datapungi_imf) (2.0.0)\n",
      "Requirement already satisfied: packaging in /Users/terrya/miniconda3/envs/imfdatapy/lib/python3.10/site-packages (from pytest->datapungi_imf) (23.0)\n",
      "Requirement already satisfied: pluggy<2.0,>=0.12 in /Users/terrya/miniconda3/envs/imfdatapy/lib/python3.10/site-packages (from pytest->datapungi_imf) (1.0.0)\n",
      "Requirement already satisfied: py>=1.8.2 in /Users/terrya/miniconda3/envs/imfdatapy/lib/python3.10/site-packages (from pytest->datapungi_imf) (1.11.0)\n",
      "Requirement already satisfied: tomli>=1.0.0 in /Users/terrya/miniconda3/envs/imfdatapy/lib/python3.10/site-packages (from pytest->datapungi_imf) (2.0.1)\n",
      "Collecting pytest-metadata\n",
      "  Downloading pytest_metadata-2.0.4-py3-none-any.whl (9.9 kB)\n",
      "Requirement already satisfied: certifi>=2017.4.17 in /Users/terrya/miniconda3/envs/imfdatapy/lib/python3.10/site-packages (from requests->datapungi_imf) (2022.12.7)\n",
      "Requirement already satisfied: idna<4,>=2.5 in /Users/terrya/miniconda3/envs/imfdatapy/lib/python3.10/site-packages (from requests->datapungi_imf) (3.4)\n",
      "Requirement already satisfied: urllib3<1.27,>=1.21.1 in /Users/terrya/miniconda3/envs/imfdatapy/lib/python3.10/site-packages (from requests->datapungi_imf) (1.26.14)\n",
      "Requirement already satisfied: charset-normalizer<3,>=2 in /Users/terrya/miniconda3/envs/imfdatapy/lib/python3.10/site-packages (from requests->datapungi_imf) (2.1.1)\n",
      "Building wheels for collected packages: pyperclip\n",
      "  Building wheel for pyperclip (setup.py) ... \u001b[?25ldone\n",
      "\u001b[?25h  Created wheel for pyperclip: filename=pyperclip-1.8.2-py3-none-any.whl size=11124 sha256=9526a2b92d80a01c521ea4de745598224ff3c3adb1abff3dfcdb8b87248abf9c\n",
      "  Stored in directory: /Users/terrya/Library/Caches/pip/wheels/04/24/fe/140a94a7f1036003ede94579e6b4227fe96c840c6f4dcbe307\n",
      "Successfully built pyperclip\n",
      "Installing collected packages: pyperclip, xlrd, html5lib, pytest-metadata, pytest-html, datapungi_imf\n",
      "Successfully installed datapungi_imf-0.2.0 html5lib-1.1 pyperclip-1.8.2 pytest-html-3.2.0 pytest-metadata-2.0.4 xlrd-2.0.1\n"
     ]
    }
   ],
   "source": [
    "!pip install datapungi_imf"
   ]
  },
  {
   "cell_type": "code",
   "execution_count": 4,
   "metadata": {
    "colab": {
     "base_uri": "https://localhost:8080/"
    },
    "id": "n0WCaFbc2iB0",
    "outputId": "95361da2-f047-42f1-ec1a-df9837ac09dd"
   },
   "outputs": [
    {
     "data": {
      "text/plain": [
       "['__builtins__',\n",
       " '__cached__',\n",
       " '__doc__',\n",
       " '__file__',\n",
       " '__loader__',\n",
       " '__name__',\n",
       " '__package__',\n",
       " '__path__',\n",
       " '__spec__',\n",
       " '__version__',\n",
       " 'api',\n",
       " 'data',\n",
       " 'driverCore',\n",
       " 'drivers',\n",
       " 'generalSettings',\n",
       " 'pandas',\n",
       " 'pd',\n",
       " 'requests',\n",
       " 'sys',\n",
       " 'tests',\n",
       " 'utils']"
      ]
     },
     "execution_count": 4,
     "metadata": {},
     "output_type": "execute_result"
    }
   ],
   "source": [
    "import datapungi_imf as dpi\n",
    "dir(dpi)"
   ]
  },
  {
   "cell_type": "markdown",
   "metadata": {
    "id": "iKz6iZFF4Xc_"
   },
   "source": [
    "How the package is described on the PyPi page: \n",
    "\n",
    "```datapungi_imf``` *is a python package that provides a simplified way to extract data from the API of IMF (IMF). Overall it can read a saved API key (in json/yaml files or environment variables (default)) to avoid having a copy of it on a script.*\n",
    "*Can automatically test:*\n",
    "* *the connectivity to all BEA datasets,*\n",
    "* *the quality of the cleaned up data, and*\n",
    "* *if the provided requests code snippet returns the correct result.*\n",
    "\n",
    "There is no documentation and the github page link is broken, so it is unclear how the methods are supposed to work. We will run a few to see what they output.\n",
    "\n"
   ]
  },
  {
   "cell_type": "code",
   "execution_count": 5,
   "metadata": {
    "colab": {
     "base_uri": "https://localhost:8080/",
     "height": 424
    },
    "id": "eCqnK3w12vxo",
    "outputId": "7329fb64-1328-4406-cefc-a1f697536306"
   },
   "outputs": [
    {
     "data": {
      "text/html": [
       "<div>\n",
       "<style scoped>\n",
       "    .dataframe tbody tr th:only-of-type {\n",
       "        vertical-align: middle;\n",
       "    }\n",
       "\n",
       "    .dataframe tbody tr th {\n",
       "        vertical-align: top;\n",
       "    }\n",
       "\n",
       "    .dataframe thead th {\n",
       "        text-align: right;\n",
       "    }\n",
       "</style>\n",
       "<table border=\"1\" class=\"dataframe\">\n",
       "  <thead>\n",
       "    <tr style=\"text-align: right;\">\n",
       "      <th></th>\n",
       "      <th>id</th>\n",
       "      <th>description</th>\n",
       "      <th>language</th>\n",
       "    </tr>\n",
       "  </thead>\n",
       "  <tbody>\n",
       "    <tr>\n",
       "      <th>0</th>\n",
       "      <td>BOP_2017M06</td>\n",
       "      <td>Balance of Payments (BOP), 2017 M06</td>\n",
       "      <td>en</td>\n",
       "    </tr>\n",
       "    <tr>\n",
       "      <th>1</th>\n",
       "      <td>BOP_2020M3</td>\n",
       "      <td>Balance of Payments (BOP), 2020 M03</td>\n",
       "      <td>en</td>\n",
       "    </tr>\n",
       "    <tr>\n",
       "      <th>2</th>\n",
       "      <td>BOP_2017M11</td>\n",
       "      <td>Balance of Payments (BOP), 2017 M11</td>\n",
       "      <td>en</td>\n",
       "    </tr>\n",
       "    <tr>\n",
       "      <th>3</th>\n",
       "      <td>DOT_2020Q1</td>\n",
       "      <td>Direction of Trade Statistics (DOTS), 2020 Q1</td>\n",
       "      <td>en</td>\n",
       "    </tr>\n",
       "    <tr>\n",
       "      <th>4</th>\n",
       "      <td>GFSMAB2016</td>\n",
       "      <td>Government Finance Statistics Yearbook (GFSY 2...</td>\n",
       "      <td>en</td>\n",
       "    </tr>\n",
       "    <tr>\n",
       "      <th>...</th>\n",
       "      <td>...</td>\n",
       "      <td>...</td>\n",
       "      <td>...</td>\n",
       "    </tr>\n",
       "    <tr>\n",
       "      <th>254</th>\n",
       "      <td>MFS</td>\n",
       "      <td>Monetary and Financial Statistics (MFS)</td>\n",
       "      <td>en</td>\n",
       "    </tr>\n",
       "    <tr>\n",
       "      <th>255</th>\n",
       "      <td>PCPS</td>\n",
       "      <td>Primary Commodity Price System (PCPS)</td>\n",
       "      <td>en</td>\n",
       "    </tr>\n",
       "    <tr>\n",
       "      <th>256</th>\n",
       "      <td>FSI</td>\n",
       "      <td>Financial Soundness Indicators (FSIs)</td>\n",
       "      <td>en</td>\n",
       "    </tr>\n",
       "    <tr>\n",
       "      <th>257</th>\n",
       "      <td>FSIRE</td>\n",
       "      <td>Financial Soundness Indicators: Reporting enti...</td>\n",
       "      <td>en</td>\n",
       "    </tr>\n",
       "    <tr>\n",
       "      <th>258</th>\n",
       "      <td>FAS</td>\n",
       "      <td>Financial Access Survey (FAS)</td>\n",
       "      <td>en</td>\n",
       "    </tr>\n",
       "  </tbody>\n",
       "</table>\n",
       "<p>259 rows × 3 columns</p>\n",
       "</div>"
      ],
      "text/plain": [
       "              id                                        description language\n",
       "0    BOP_2017M06                Balance of Payments (BOP), 2017 M06       en\n",
       "1     BOP_2020M3                Balance of Payments (BOP), 2020 M03       en\n",
       "2    BOP_2017M11                Balance of Payments (BOP), 2017 M11       en\n",
       "3     DOT_2020Q1      Direction of Trade Statistics (DOTS), 2020 Q1       en\n",
       "4     GFSMAB2016  Government Finance Statistics Yearbook (GFSY 2...       en\n",
       "..           ...                                                ...      ...\n",
       "254          MFS            Monetary and Financial Statistics (MFS)       en\n",
       "255         PCPS              Primary Commodity Price System (PCPS)       en\n",
       "256          FSI              Financial Soundness Indicators (FSIs)       en\n",
       "257        FSIRE  Financial Soundness Indicators: Reporting enti...       en\n",
       "258          FAS                      Financial Access Survey (FAS)       en\n",
       "\n",
       "[259 rows x 3 columns]"
      ]
     },
     "execution_count": 5,
     "metadata": {},
     "output_type": "execute_result"
    }
   ],
   "source": [
    "data = dpi.data() #or data = dpi.data(\"API Key\"), see setting up section   \n",
    "\n",
    "data.list()"
   ]
  },
  {
   "cell_type": "code",
   "execution_count": 6,
   "metadata": {
    "colab": {
     "base_uri": "https://localhost:8080/"
    },
    "id": "IXKnYeeC5i07",
    "outputId": "e9f81c56-37ee-4835-a858-3ead8d155f99"
   },
   "outputs": [
    {
     "data": {
      "text/plain": [
       "{'concepts':             id                                        text\n",
       " 0    OBS_VALUE                                       Value\n",
       " 1    UNIT_MULT                                       Scale\n",
       " 2  TIME_FORMAT                                 Time format\n",
       " 3         FREQ                                   Frequency\n",
       " 4     REF_AREA                              Reference Area\n",
       " 5    INDICATOR                                   Indicator\n",
       " 6    BASE_YEAR                                   Base Year\n",
       " 7  TIME_PERIOD                                        Date\n",
       " 8   OBS_STATUS  Observation Status (incl. Confidentiality),\n",
       " 'annotations':                  title                                               text\n",
       " 0   Latest Update Date                                         02/06/2023\n",
       " 1                 Name           International Financial Statistics (IFS)\n",
       " 2    Temporal Coverage  Data available starting in the 1948 for many I...\n",
       " 3  Geographic Coverage  IFS covers 194 countries and areas.\\n\\nUnder t...\n",
       " 4          Methodology  The International Financial Statistics is base...\n",
       " 5    Sectoral Coverage  National Accounts, Indicators of Economic Acti...\n",
       " 6           Definition  The International Financial Statistics databas...\n",
       " 7                 Code                                                IFS,\n",
       " 'codes': {'CL_UNIT_MULT':    value          description\n",
       "  0      0                Units\n",
       "  1      2             Hundreds\n",
       "  2      3            Thousands\n",
       "  3      6             Millions\n",
       "  4      9             Billions\n",
       "  5     12            Trillions\n",
       "  6    N15       Quadrillionths\n",
       "  7    N14  Hundred Trillionths\n",
       "  8    N13      Ten Trillionths\n",
       "  9    N12          Trillionths\n",
       "  10   N11   Hundred Billionths\n",
       "  11   N10       Ten Billionths\n",
       "  12    N9           Billionths\n",
       "  13    N8   Hundred Millionths\n",
       "  14    N7       Ten Millionths\n",
       "  15    N6           Millionths\n",
       "  16    N5  Hundred Thousandths\n",
       "  17    N4      Ten Thousandths\n",
       "  18    N3          Thousandths\n",
       "  19    N2           Hundredths\n",
       "  20    N1               Tenths\n",
       "  21     1                 Tens\n",
       "  22     4        Ten Thousands\n",
       "  23     5    Hundred Thousands\n",
       "  24     7         Ten Millions\n",
       "  25     8     Hundred Millions\n",
       "  26    10         Ten Billions\n",
       "  27    11     Hundred Billions\n",
       "  28    13        Ten Trillions\n",
       "  29    14    Hundred Trillions\n",
       "  30    15         Quadrillions,\n",
       "  'CL_FREQ':   value description\n",
       "  0     A      Annual\n",
       "  1     B   Bi-annual\n",
       "  2     Q   Quarterly\n",
       "  3     M     Monthly\n",
       "  4     D       Daily\n",
       "  5     W      Weekly,\n",
       "  'CL_AREA_IFS':       value                                       description\n",
       "  0        AF                                       Afghanistan\n",
       "  1        AL                                           Albania\n",
       "  2        DZ                                           Algeria\n",
       "  3        AD                                           Andorra\n",
       "  4        AO                                            Angola\n",
       "  ..      ...                                               ...\n",
       "  273  1C_SRF                                     SRF Countries\n",
       "  274      F6                                Sub-Saharan Africa\n",
       "  275      7A  WAEMU (West African Economic and Monetary Union)\n",
       "  276     A10                                Western Hemisphere\n",
       "  277     W00                   All Countries, excluding the IO\n",
       "  \n",
       "  [278 rows x 2 columns],\n",
       "  'CL_INDICATOR_IFS':                   value                                        description\n",
       "  0            NFIAXD_XDC  Acquisitions less Disposals of Valuables, Nomi...\n",
       "  1         NFIAXD_SA_XDC  Acquisitions less Disposals of Valuables, Nomi...\n",
       "  2        NFIAXD_NSA_XDC  Acquisitions less Disposals of Valuables, Nomi...\n",
       "  3          NFIAXD_R_XDC  Acquisitions less Disposals of Valuables, Real...\n",
       "  4       NFIAXD_R_SA_XDC  Acquisitions less Disposals of Valuables, Real...\n",
       "  ...                 ...                                                ...\n",
       "  1674          LU_PE_NUM                   Unemployment, Persons, Number of\n",
       "  1675   LU_PE_PC_CP_A_PT  Unemployment, Persons, Percentage change, corr...\n",
       "  1676     LU_PE_PC_PP_PT  Unemployment, Persons, Percentage change, prev...\n",
       "  1677  1C_ALL_INDICATORS                                     All Indicators\n",
       "  1678                MFS            Monetary and Financial Statistics (MFS)\n",
       "  \n",
       "  [1679 rows x 2 columns],\n",
       "  'CL_TIME_FORMAT':   value description\n",
       "  0   P1Y      Annual\n",
       "  1   P6M   Bi-annual\n",
       "  2   P3M   Quarterly\n",
       "  3   P1M     Monthly\n",
       "  4   P7D      Weekly\n",
       "  5   P1D       Daily}}"
      ]
     },
     "execution_count": 6,
     "metadata": {},
     "output_type": "execute_result"
    }
   ],
   "source": [
    "data.params('IFS') # return all the dimentions? "
   ]
  },
  {
   "cell_type": "code",
   "execution_count": 7,
   "metadata": {
    "colab": {
     "base_uri": "https://localhost:8080/"
    },
    "id": "0FWMAdHC6iqQ",
    "outputId": "a7911bb2-3cc7-4d81-fbfa-fd9cccacf9fc"
   },
   "outputs": [
    {
     "name": "stdout",
     "output_type": "stream",
     "text": [
      "concepts\n",
      "annotations\n",
      "codes\n"
     ]
    }
   ],
   "source": [
    "for key in data.params('IFS'):\n",
    "  print(key)"
   ]
  },
  {
   "cell_type": "code",
   "execution_count": 8,
   "metadata": {
    "colab": {
     "base_uri": "https://localhost:8080/",
     "height": 332
    },
    "id": "-i69DoWH5_ni",
    "outputId": "a6287431-ddec-4c1b-fe75-8587329288a2"
   },
   "outputs": [
    {
     "data": {
      "text/html": [
       "<div>\n",
       "<style scoped>\n",
       "    .dataframe tbody tr th:only-of-type {\n",
       "        vertical-align: middle;\n",
       "    }\n",
       "\n",
       "    .dataframe tbody tr th {\n",
       "        vertical-align: top;\n",
       "    }\n",
       "\n",
       "    .dataframe thead th {\n",
       "        text-align: right;\n",
       "    }\n",
       "</style>\n",
       "<table border=\"1\" class=\"dataframe\">\n",
       "  <thead>\n",
       "    <tr style=\"text-align: right;\">\n",
       "      <th></th>\n",
       "      <th>id</th>\n",
       "      <th>text</th>\n",
       "    </tr>\n",
       "  </thead>\n",
       "  <tbody>\n",
       "    <tr>\n",
       "      <th>0</th>\n",
       "      <td>OBS_VALUE</td>\n",
       "      <td>Value</td>\n",
       "    </tr>\n",
       "    <tr>\n",
       "      <th>1</th>\n",
       "      <td>UNIT_MULT</td>\n",
       "      <td>Scale</td>\n",
       "    </tr>\n",
       "    <tr>\n",
       "      <th>2</th>\n",
       "      <td>TIME_FORMAT</td>\n",
       "      <td>Time format</td>\n",
       "    </tr>\n",
       "    <tr>\n",
       "      <th>3</th>\n",
       "      <td>FREQ</td>\n",
       "      <td>Frequency</td>\n",
       "    </tr>\n",
       "    <tr>\n",
       "      <th>4</th>\n",
       "      <td>REF_AREA</td>\n",
       "      <td>Reference Area</td>\n",
       "    </tr>\n",
       "    <tr>\n",
       "      <th>5</th>\n",
       "      <td>INDICATOR</td>\n",
       "      <td>Indicator</td>\n",
       "    </tr>\n",
       "    <tr>\n",
       "      <th>6</th>\n",
       "      <td>BASE_YEAR</td>\n",
       "      <td>Base Year</td>\n",
       "    </tr>\n",
       "    <tr>\n",
       "      <th>7</th>\n",
       "      <td>TIME_PERIOD</td>\n",
       "      <td>Date</td>\n",
       "    </tr>\n",
       "    <tr>\n",
       "      <th>8</th>\n",
       "      <td>OBS_STATUS</td>\n",
       "      <td>Observation Status (incl. Confidentiality)</td>\n",
       "    </tr>\n",
       "  </tbody>\n",
       "</table>\n",
       "</div>"
      ],
      "text/plain": [
       "            id                                        text\n",
       "0    OBS_VALUE                                       Value\n",
       "1    UNIT_MULT                                       Scale\n",
       "2  TIME_FORMAT                                 Time format\n",
       "3         FREQ                                   Frequency\n",
       "4     REF_AREA                              Reference Area\n",
       "5    INDICATOR                                   Indicator\n",
       "6    BASE_YEAR                                   Base Year\n",
       "7  TIME_PERIOD                                        Date\n",
       "8   OBS_STATUS  Observation Status (incl. Confidentiality)"
      ]
     },
     "execution_count": 8,
     "metadata": {},
     "output_type": "execute_result"
    }
   ],
   "source": [
    "data.params('IFS')['concepts']"
   ]
  },
  {
   "cell_type": "code",
   "execution_count": 9,
   "metadata": {
    "colab": {
     "base_uri": "https://localhost:8080/",
     "height": 300
    },
    "id": "qPztf06v6ELl",
    "outputId": "e87e6f34-e996-441f-ccc5-42cd4743ee05"
   },
   "outputs": [
    {
     "data": {
      "text/html": [
       "<div>\n",
       "<style scoped>\n",
       "    .dataframe tbody tr th:only-of-type {\n",
       "        vertical-align: middle;\n",
       "    }\n",
       "\n",
       "    .dataframe tbody tr th {\n",
       "        vertical-align: top;\n",
       "    }\n",
       "\n",
       "    .dataframe thead th {\n",
       "        text-align: right;\n",
       "    }\n",
       "</style>\n",
       "<table border=\"1\" class=\"dataframe\">\n",
       "  <thead>\n",
       "    <tr style=\"text-align: right;\">\n",
       "      <th></th>\n",
       "      <th>title</th>\n",
       "      <th>text</th>\n",
       "    </tr>\n",
       "  </thead>\n",
       "  <tbody>\n",
       "    <tr>\n",
       "      <th>0</th>\n",
       "      <td>Latest Update Date</td>\n",
       "      <td>02/06/2023</td>\n",
       "    </tr>\n",
       "    <tr>\n",
       "      <th>1</th>\n",
       "      <td>Name</td>\n",
       "      <td>International Financial Statistics (IFS)</td>\n",
       "    </tr>\n",
       "    <tr>\n",
       "      <th>2</th>\n",
       "      <td>Temporal Coverage</td>\n",
       "      <td>Data available starting in the 1948 for many I...</td>\n",
       "    </tr>\n",
       "    <tr>\n",
       "      <th>3</th>\n",
       "      <td>Geographic Coverage</td>\n",
       "      <td>IFS covers 194 countries and areas.\\n\\nUnder t...</td>\n",
       "    </tr>\n",
       "    <tr>\n",
       "      <th>4</th>\n",
       "      <td>Methodology</td>\n",
       "      <td>The International Financial Statistics is base...</td>\n",
       "    </tr>\n",
       "    <tr>\n",
       "      <th>5</th>\n",
       "      <td>Sectoral Coverage</td>\n",
       "      <td>National Accounts, Indicators of Economic Acti...</td>\n",
       "    </tr>\n",
       "    <tr>\n",
       "      <th>6</th>\n",
       "      <td>Definition</td>\n",
       "      <td>The International Financial Statistics databas...</td>\n",
       "    </tr>\n",
       "    <tr>\n",
       "      <th>7</th>\n",
       "      <td>Code</td>\n",
       "      <td>IFS</td>\n",
       "    </tr>\n",
       "  </tbody>\n",
       "</table>\n",
       "</div>"
      ],
      "text/plain": [
       "                 title                                               text\n",
       "0   Latest Update Date                                         02/06/2023\n",
       "1                 Name           International Financial Statistics (IFS)\n",
       "2    Temporal Coverage  Data available starting in the 1948 for many I...\n",
       "3  Geographic Coverage  IFS covers 194 countries and areas.\\n\\nUnder t...\n",
       "4          Methodology  The International Financial Statistics is base...\n",
       "5    Sectoral Coverage  National Accounts, Indicators of Economic Acti...\n",
       "6           Definition  The International Financial Statistics databas...\n",
       "7                 Code                                                IFS"
      ]
     },
     "execution_count": 9,
     "metadata": {},
     "output_type": "execute_result"
    }
   ],
   "source": [
    "data.params('IFS')['annotations']"
   ]
  },
  {
   "cell_type": "code",
   "execution_count": null,
   "metadata": {
    "colab": {
     "base_uri": "https://localhost:8080/"
    },
    "id": "s1k0eQvS6Ltb",
    "outputId": "058531eb-f61a-4ef0-bc22-bf6b646ff65a"
   },
   "outputs": [],
   "source": [
    "data.params('IFS')['codes']"
   ]
  },
  {
   "cell_type": "code",
   "execution_count": null,
   "metadata": {
    "colab": {
     "base_uri": "https://localhost:8080/"
    },
    "id": "hNKuD02s6oKu",
    "outputId": "dde4f764-2955-4864-ad1a-ecfbe11bcd86"
   },
   "outputs": [],
   "source": [
    "for key in data.params('IFS')['codes']:\n",
    "  print(key) "
   ]
  },
  {
   "cell_type": "code",
   "execution_count": null,
   "metadata": {
    "colab": {
     "base_uri": "https://localhost:8080/",
     "height": 237
    },
    "id": "-_untCym5Ug3",
    "outputId": "5377b30a-0445-43d6-de77-f188fca6b514"
   },
   "outputs": [],
   "source": [
    "df = data.data('IFS/A.GB.LU_PE_NUM')\n",
    "df.head(n=5)"
   ]
  },
  {
   "cell_type": "code",
   "execution_count": null,
   "metadata": {
    "colab": {
     "base_uri": "https://localhost:8080/"
    },
    "id": "EXg7BrZd6yqF",
    "outputId": "49b92c6f-d9ee-4c49-fbc7-83082f1eb1ba"
   },
   "outputs": [],
   "source": [
    "data.meta('IFS/A.GB.LU_PE_NUM')"
   ]
  },
  {
   "cell_type": "markdown",
   "metadata": {
    "id": "uKMDMIbH7HuP"
   },
   "source": [
    "This package returns metadata in the form of json files and returns observation values as a dataframe. "
   ]
  },
  {
   "cell_type": "markdown",
   "metadata": {
    "id": "Pk9S3gZL7hPA"
   },
   "source": [
    "Same package but different dataset."
   ]
  },
  {
   "cell_type": "code",
   "execution_count": null,
   "metadata": {
    "colab": {
     "base_uri": "https://localhost:8080/",
     "height": 424
    },
    "id": "HidH2WP-7g3W",
    "outputId": "397f5e93-8461-40b6-cd8a-83925f155bcd"
   },
   "outputs": [],
   "source": [
    "data.params('FSI')['codes']['CL_INDICATOR_FSI']"
   ]
  },
  {
   "cell_type": "code",
   "execution_count": null,
   "metadata": {
    "colab": {
     "base_uri": "https://localhost:8080/"
    },
    "id": "ccUZQpDSL0wn",
    "outputId": "a19fbb38-77c8-49e7-859e-a95c7f33137a"
   },
   "outputs": [],
   "source": [
    "data.meta('FSI/A.GB.FS_ODX_AFCDGN_XDC')"
   ]
  },
  {
   "cell_type": "code",
   "execution_count": null,
   "metadata": {
    "colab": {
     "base_uri": "https://localhost:8080/",
     "height": 312
    },
    "id": "k-fA9XsX7ae-",
    "outputId": "7c3e58f1-7c73-470c-deef-66507a6ef2eb"
   },
   "outputs": [],
   "source": [
    "data.data('FSI/A.GB.FS_ODX_AFCDGN_XDC') # error"
   ]
  },
  {
   "cell_type": "markdown",
   "metadata": {
    "id": "IH_eGCli80qy"
   },
   "source": [
    "The methods seem to work for IFS data only. Having tried extracting data for 'FSI', 'GFS', 'MFS', the request resulted in error. "
   ]
  },
  {
   "cell_type": "markdown",
   "metadata": {
    "id": "grJ8t_8G9EBf"
   },
   "source": [
    "## PyIMF"
   ]
  },
  {
   "cell_type": "code",
   "execution_count": null,
   "metadata": {
    "colab": {
     "base_uri": "https://localhost:8080/"
    },
    "id": "98e1VIcK8zjt",
    "outputId": "58f22bce-5ea5-40dc-c72b-2544fd0853f8"
   },
   "outputs": [],
   "source": [
    "!pip install PyIMF"
   ]
  },
  {
   "cell_type": "code",
   "execution_count": null,
   "metadata": {
    "colab": {
     "base_uri": "https://localhost:8080/",
     "height": 305
    },
    "id": "2In-_69I7ELb",
    "outputId": "d01fe6e3-ea10-43f4-e666-534122ae0383"
   },
   "outputs": [],
   "source": [
    "import PyIMF"
   ]
  },
  {
   "cell_type": "markdown",
   "metadata": {
    "id": "8PltQKiS99oW"
   },
   "source": [
    "The package does not import.\n",
    "Based on the codes on its [Github](https://github.com/ceggersp/IMF_API) page, the package it supported to \n",
    "1. output a list of series given search term:\n",
    "\n",
    "```\n",
    "find_series(search_term) \n",
    "```\n",
    "\n",
    "2. output dimention names as a pandas dataframe given selected series:\n",
    "\n",
    "```\n",
    "find_dims(series)\n",
    "```\n",
    "\n",
    "3. return list of codes and their names for a given dimentiosn (eg 'CL_INDICATOR_IFS'):\n",
    "\n",
    "```\n",
    "find_codes(dim)\n",
    "```\n",
    "\n",
    "4. return data given parameters looked up before:\n",
    "\n",
    "\n",
    "```\n",
    "request_data(dataset, parameters, countries = 'ALL', F='A', var_name=0, save_file=0, file_type='csv', sleep = False)\n",
    "```\n",
    "\n",
    "Having run the codes from the github page, the functions perform as expected, except for one case. The codes are available in the next subsection if you are intrerested (on colab: unhide to view).\n",
    "\n",
    "\n",
    "\n",
    "\n",
    "\n",
    "\n"
   ]
  },
  {
   "cell_type": "markdown",
   "metadata": {
    "id": "iJhLbtD7Bmnd"
   },
   "source": [
    "### Codes from the github page (on colab: unhide to view)"
   ]
  },
  {
   "cell_type": "code",
   "execution_count": null,
   "metadata": {
    "id": "KRdsRB-A9pkX"
   },
   "outputs": [],
   "source": [
    "import pandas as pd\n",
    "import numpy as np\n",
    "import requests\n",
    "import time\n",
    "import os\n",
    "import platform\n",
    "url = 'http://dataservices.imf.org/REST/SDMX_JSON.svc/'\n",
    "\n",
    "\n",
    "if platform.system() == 'Linux':\n",
    "    clear_command = 'clear'\n",
    "else:\n",
    "    clear_command = 'cls'\n",
    "\n",
    "def find_series(search_term):\n",
    "    key = 'Dataflow'  # Method with series information\n",
    "    search_series_list = pd.DataFrame(columns = ['series_name','series_ID'])\n",
    "    full_series_list = requests.get(f'{url}{key}').json()\\\n",
    "                ['Structure']['Dataflows']['Dataflow']\n",
    "    # Use dict keys to navigate through results:\n",
    "    for series in full_series_list:\n",
    "        if search_term in series['Name']['#text']:\n",
    "            series_name = pd.DataFrame([series['Name']['#text']], columns = ['series_name'])\n",
    "            series_ID = pd.DataFrame([series['KeyFamilyRef']['KeyFamilyID']], columns = ['series_ID'])\n",
    "            search_series_list = pd.concat([search_series_list, pd.concat([series_name, series_ID], axis=1)], axis=0, ignore_index = True)\n",
    "    return search_series_list"
   ]
  },
  {
   "cell_type": "code",
   "execution_count": null,
   "metadata": {
    "id": "wiGgdCTK_NZZ"
   },
   "outputs": [],
   "source": [
    "a = find_series('IFS')"
   ]
  },
  {
   "cell_type": "code",
   "execution_count": null,
   "metadata": {
    "id": "XMkMcMuz_Wg0"
   },
   "outputs": [],
   "source": [
    "def find_dims(series):\n",
    "    key = 'DataStructure/'+series  # Method / series\n",
    "    dimension_list = requests.get(f'{url}{key}').json()\\\n",
    "                ['Structure']['KeyFamilies']['KeyFamily']\\\n",
    "                ['Components']['Dimension']\n",
    "    dims = pd.DataFrame(columns = ['Dimensions'])\n",
    "    for n in range(0, len(dimension_list)):\n",
    "        dim = pd.DataFrame([dimension_list[n]['@codelist']], columns = ['Dimensions'])\n",
    "        dims = pd.concat([dims, dim], axis=0, ignore_index = True)\n",
    "    \n",
    "    return dims"
   ]
  },
  {
   "cell_type": "code",
   "execution_count": null,
   "metadata": {
    "id": "v5vSp7jr_dZc"
   },
   "outputs": [],
   "source": [
    "series = 'IFS'\n",
    "b  = find_dims(series)"
   ]
  },
  {
   "cell_type": "code",
   "execution_count": null,
   "metadata": {
    "colab": {
     "base_uri": "https://localhost:8080/",
     "height": 143
    },
    "id": "farx1PGw_ilN",
    "outputId": "c3711106-78cc-4222-b96e-fb08274d88a0"
   },
   "outputs": [],
   "source": [
    "b"
   ]
  },
  {
   "cell_type": "code",
   "execution_count": null,
   "metadata": {
    "id": "I_dLu7TG_jRa"
   },
   "outputs": [],
   "source": [
    "def find_codes(dim):\n",
    "    \n",
    "    key = f\"CodeList/{dim}\"\n",
    "    code_list = requests.get(f'{url}{key}').json()\\\n",
    "            ['Structure']['CodeLists']['CodeList']['Code']\n",
    "\n",
    "    codes = pd.DataFrame(columns = ['Description','Code'])\n",
    "    # Use dict keys to navigate through results:\n",
    "    for c in code_list:\n",
    "        code_desc = pd.DataFrame([c['Description']['#text']], columns = ['Description'])\n",
    "        code = pd.DataFrame([c['@value']], columns = ['Code'])\n",
    "        codes = pd.concat([codes, pd.concat([code_desc, code], axis=1)], axis=0, ignore_index = True)\n",
    "\n",
    "    return codes"
   ]
  },
  {
   "cell_type": "code",
   "execution_count": null,
   "metadata": {
    "id": "BWHiaDYq_qYp"
   },
   "outputs": [],
   "source": [
    "c = find_codes('CL_INDICATOR_IFS')"
   ]
  },
  {
   "cell_type": "code",
   "execution_count": null,
   "metadata": {
    "colab": {
     "base_uri": "https://localhost:8080/",
     "height": 424
    },
    "id": "FloUm1ts_tMs",
    "outputId": "c5d9fa55-558d-4217-8c73-c6f49e687404"
   },
   "outputs": [],
   "source": [
    "c"
   ]
  },
  {
   "cell_type": "code",
   "execution_count": null,
   "metadata": {
    "id": "8Rps-lvE_v5v"
   },
   "outputs": [],
   "source": [
    "def request_data(dataset, parameters, countries = 'ALL', F='A', var_name=0, save_file=0, file_type='csv', sleep = False):\n",
    "\n",
    "    countries_code_list = find_codes('CL_AREA_'+dataset)\n",
    "\n",
    "    if var_name == 0:\n",
    "        var_name = parameters\n",
    "\n",
    "    if countries == 'ALL':\n",
    "        countries_parameter = ''\n",
    "        one_country = False\n",
    "    else:\n",
    "        if len(countries) == 1:\n",
    "            one_country = True\n",
    "        else:\n",
    "            one_country = False\n",
    "        for i in range(0, len(countries)):\n",
    "            if i == 0:\n",
    "                countries_parameter = countries[i]\n",
    "            else:\n",
    "                countries_parameter = countries_parameter+'+'+countries[i]\n",
    "\n",
    "    key = 'CompactData/'+dataset+'/'+F+'.'+countries_parameter+'.'+parameters\n",
    "    print(key)\n",
    "    # Navigate to series in API-returned JSON data\n",
    "    data = (requests.get(f'{url}{key}').json()\n",
    "            ['CompactData']['DataSet']['Series'])\n",
    "\n",
    "    if sleep == False:\n",
    "        pass\n",
    "    else:\n",
    "        if sleep == True:\n",
    "            time.sleep(1.005)\n",
    "        else:\n",
    "            print('Input \"sleep\" must be either \"True\" or \"False\"')\n",
    "\n",
    "    # Create pandas dataframe from the observations\n",
    "    PANEL = pd.DataFrame(columns=['period', var_name, 'country'])\n",
    "    if one_country == True:\n",
    "        data_list = [[obs.get('@TIME_PERIOD'), obs.get('@OBS_VALUE')]\n",
    "                    for obs in data['Obs']]\n",
    "        country_data = pd.DataFrame(data_list, columns=['period', var_name])\n",
    "        country_data['country'] = data['@REF_AREA']\n",
    "        PANEL = pd.concat([PANEL,country_data], axis = 0, ignore_index=True)\n",
    "    else:\n",
    "        for i in range(0,len(data)):\n",
    "            data_list = [[obs.get('@TIME_PERIOD'), obs.get('@OBS_VALUE')]\n",
    "                        for obs in data[i]['Obs']]\n",
    "            country_data = pd.DataFrame(data_list, columns=['period', var_name])\n",
    "            country_data['country'] = data[i]['@REF_AREA']\n",
    "            PANEL = pd.concat([PANEL,country_data], axis = 0, ignore_index=True)\n",
    "\n",
    "    PANEL['country_name'] = ['.' for i in range(0, len(PANEL))]\n",
    "    for i in range(0, len(PANEL)):\n",
    "        row = countries_code_list['Description'][countries_code_list['Code'] == PANEL['country'][i]].values.astype(str)\n",
    "        PANEL['country_name'][i] = row[0]    \n",
    "\n",
    "    PANEL['obs_code'] = PANEL['period'].astype(str)+PANEL['country']\n",
    "\n",
    "    if save_file == 0:\n",
    "        pass\n",
    "    else:\n",
    "        if file_type == 'csv':\n",
    "            PANEL.to_csv(save_file+'.'+file_type, header=True, index=False)\n",
    "        else:\n",
    "            PANEL.to_excel(save_file+'.'+file_type, header=True, index=False)\n",
    "\n",
    "    os.system(clear_command)\n",
    "    print('Data retrieved succesfully')\n",
    "    return PANEL\n"
   ]
  },
  {
   "cell_type": "code",
   "execution_count": null,
   "metadata": {
    "colab": {
     "base_uri": "https://localhost:8080/"
    },
    "id": "7a2ECcxxAmRY",
    "outputId": "ab8b8f04-9767-455c-896c-96d9dfd2cfcd"
   },
   "outputs": [],
   "source": [
    "print(request_data('IFS', 'PMP_IX'))"
   ]
  },
  {
   "cell_type": "code",
   "execution_count": null,
   "metadata": {
    "colab": {
     "base_uri": "https://localhost:8080/"
    },
    "id": "Gnf-o80IAnPh",
    "outputId": "99e70de4-8a8f-4f5b-d2fc-68cf5343dd2a"
   },
   "outputs": [],
   "source": [
    "print(request_data('IFS', 'PMP_IX', countries = ['GB','US'], F='Q', var_name=0, save_file=0, file_type='csv', sleep = False))"
   ]
  },
  {
   "cell_type": "code",
   "execution_count": null,
   "metadata": {
    "colab": {
     "base_uri": "https://localhost:8080/"
    },
    "id": "KAa1R5ETBRst",
    "outputId": "1d939618-5c00-4fa4-c16f-9a3627de9c3a"
   },
   "outputs": [],
   "source": [
    "print(request_data('IFS', 'PMP_IX', countries = ['US'], F='Q', var_name=0, save_file=0, file_type='csv', sleep = False))"
   ]
  },
  {
   "cell_type": "markdown",
   "metadata": {
    "id": "0NCq6CNFBcvX"
   },
   "source": [
    "Results in error if only one country is specified. "
   ]
  },
  {
   "cell_type": "markdown",
   "metadata": {
    "id": "94UtPaV3CGPr"
   },
   "source": [
    "## imfpy"
   ]
  },
  {
   "cell_type": "code",
   "execution_count": null,
   "metadata": {
    "colab": {
     "base_uri": "https://localhost:8080/"
    },
    "id": "nnmzutwVBcTC",
    "outputId": "a9079ad5-87c6-40d0-a06d-07d7d5580cfe"
   },
   "outputs": [],
   "source": [
    "!pip install imfpy"
   ]
  },
  {
   "cell_type": "code",
   "execution_count": null,
   "metadata": {
    "id": "gmZgBSEYBblU"
   },
   "outputs": [],
   "source": [
    "import imfpy"
   ]
  },
  {
   "cell_type": "code",
   "execution_count": null,
   "metadata": {
    "colab": {
     "base_uri": "https://localhost:8080/"
    },
    "id": "UWBCqAVWCE3T",
    "outputId": "1e31e141-47b1-4fdf-df62-0f3517fad70e"
   },
   "outputs": [],
   "source": [
    "dir(imfpy)"
   ]
  },
  {
   "cell_type": "markdown",
   "metadata": {
    "id": "uMO1CX0_Cy1j"
   },
   "source": [
    "The package has a good [user guide](https://imfpy.readthedocs.io/en/latest/example.html#module-imfpy-searches) and can be used to \n",
    "1. extract/visualize IMF's Direction of Trade (DoTS) data and \n",
    "2. search through the IMF datasets, the indicators available and retrives some metadata for the datasets.\n",
    "\n",
    "Some examples are shown below. "
   ]
  },
  {
   "cell_type": "code",
   "execution_count": null,
   "metadata": {
    "id": "UCRrVVhfCsEr"
   },
   "outputs": [],
   "source": [
    "from imfpy.retrievals import dots"
   ]
  },
  {
   "cell_type": "code",
   "execution_count": null,
   "metadata": {
    "colab": {
     "base_uri": "https://localhost:8080/",
     "height": 338
    },
    "id": "Ziv_GDaDC18l",
    "outputId": "9cd105b2-3776-44b8-f296-c0d7a787ab3c"
   },
   "outputs": [],
   "source": [
    "# dots(\"DE\", [\"US\", \"AU\"], 2017, 2022, freq='M')\n",
    "dots(\"DE\", [\"US\", \"AU\"], 2017, 2022, freq='A')"
   ]
  },
  {
   "cell_type": "code",
   "execution_count": null,
   "metadata": {
    "colab": {
     "base_uri": "https://localhost:8080/"
    },
    "id": "mFn2-ySmDDbD",
    "outputId": "68957d12-1492-490c-b2ca-42851c1a1849"
   },
   "outputs": [],
   "source": [
    "#Example: plot Australia trade data\n",
    "from imfpy.tools import dotsplot\n",
    "d = dots('AU',['US','CN'], 2000, 2020, freq='A', form=\"long\")\n",
    "#d = dots('AU',['US','CN'], 2000, 2020, freq='Q', form=\"long\")"
   ]
  },
  {
   "cell_type": "code",
   "execution_count": null,
   "metadata": {
    "colab": {
     "base_uri": "https://localhost:8080/",
     "height": 143
    },
    "id": "XFTq25AODOCV",
    "outputId": "86cb660a-424d-494e-a386-8ea208fd8c19"
   },
   "outputs": [],
   "source": [
    "d.head(n=3)"
   ]
  },
  {
   "cell_type": "code",
   "execution_count": null,
   "metadata": {
    "id": "qv45er0NDtSm"
   },
   "outputs": [],
   "source": [
    "from imfpy import searches"
   ]
  },
  {
   "cell_type": "code",
   "execution_count": null,
   "metadata": {
    "colab": {
     "base_uri": "https://localhost:8080/",
     "height": 223
    },
    "id": "8OFeALV4E305",
    "outputId": "43f15aea-1738-4c28-e26e-1be1ab25b693"
   },
   "outputs": [],
   "source": [
    "searches.country_search(\"^B.*a$\", regex=True)"
   ]
  },
  {
   "cell_type": "code",
   "execution_count": null,
   "metadata": {
    "colab": {
     "base_uri": "https://localhost:8080/",
     "height": 300
    },
    "id": "58YBF986FByK",
    "outputId": "18316984-355b-4605-e901-ed15dc471f95"
   },
   "outputs": [],
   "source": [
    "searches.database_search(\"^Financial.*\", regex=True)"
   ]
  },
  {
   "cell_type": "code",
   "execution_count": null,
   "metadata": {
    "colab": {
     "base_uri": "https://localhost:8080/",
     "height": 318
    },
    "id": "KgMssdRhFMRa",
    "outputId": "49b69162-15eb-41a6-aab6-dbe46b682672"
   },
   "outputs": [],
   "source": [
    "searches.database_info('FSI')"
   ]
  },
  {
   "cell_type": "code",
   "execution_count": null,
   "metadata": {
    "id": "gz8AWQoCFQnA"
   },
   "outputs": [],
   "source": []
  }
 ],
 "metadata": {
  "colab": {
   "collapsed_sections": [
    "MV6UBzYm2QlQ",
    "_dED6TWo3z-n",
    "grJ8t_8G9EBf",
    "iJhLbtD7Bmnd"
   ],
   "provenance": []
  },
  "kernelspec": {
   "display_name": "Python 3 (ipykernel)",
   "language": "python",
   "name": "python3"
  },
  "language_info": {
   "codemirror_mode": {
    "name": "ipython",
    "version": 3
   },
   "file_extension": ".py",
   "mimetype": "text/x-python",
   "name": "python",
   "nbconvert_exporter": "python",
   "pygments_lexer": "ipython3",
   "version": "3.10.9"
  }
 },
 "nbformat": 4,
 "nbformat_minor": 1
}
