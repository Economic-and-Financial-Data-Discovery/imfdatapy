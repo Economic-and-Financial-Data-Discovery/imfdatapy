{
  "cells": [
    {
      "cell_type": "markdown",
      "source": [
        "## The JSON RESTful API for data extraction from the IMF structure"
      ],
      "metadata": {
        "id": "UeAjC9L-OtsQ"
      }
    },
    {
      "cell_type": "markdown",
      "metadata": {
        "id": "rd8YU2fNvX6j"
      },
      "source": [
        "The IMF's [JSON RESTful Web Service API](https://datahelp.imf.org/knowledgebase/articles/667681-using-json-restful-web-service) allows access to macroeconomic data covering more than 180 countries.\n",
        "\n",
        "In this notebook, we will explore data extraction methods of the API."
      ]
    },
    {
      "cell_type": "markdown",
      "metadata": {
        "id": "soCpmZY5yMzE"
      },
      "source": [
        "First, we begin with loading the necessary libraries for data extraction and data manupulation."
      ]
    },
    {
      "cell_type": "code",
      "execution_count": 1,
      "metadata": {
        "id": "eBNpOLHiiw9w"
      },
      "outputs": [],
      "source": [
        "import requests, re\n",
        "import pandas as pd\n",
        "import time as tm\n",
        "import json\n",
        "import numpy as np"
      ]
    },
    {
      "cell_type": "markdown",
      "source": [
        "The start point to the service located in the following URL:\n",
        "\n",
        "\n",
        "```\n",
        "'http://dataservices.imf.org/REST/SDMX_JSON.svc/'\n",
        "```\n",
        "\n"
      ],
      "metadata": {
        "id": "zKI9rZBuPH-v"
      }
    },
    {
      "cell_type": "markdown",
      "source": [
        "The [JSON RESTful Web Service](https://datahelp.imf.org/knowledgebase/articles/667681-using-json-restful-web-service) exposes the following methods:\n",
        "* Dataflow\n",
        "* DataStructure\n",
        "* CompactData\n",
        "* MetadataStructure\n",
        "* GenericMetadata\n",
        "* CodeList\n",
        "* MaxSeriesInResult\n",
        "\n",
        "The **Dataflow** method returns the list of the datasets, registered for the Data Service. It offers JSON formatted information on which series are available through the API. So far, we have looked at the IFS series.\n",
        "In order to obtain the data use the following request: \n",
        "\n",
        "\n",
        "```\n",
        "http://dataservices.imf.org/REST/SDMX_JSON.svc/Dataflow\n",
        "```\n",
        "\n",
        "Full list of series available through the IMF can be found [here](https://data.imf.org/?sk=388DFA60-1D26-4ADE-B505-A05A558D9A42&sId=1479329132316).\n",
        "We can search through the series by name."
      ],
      "metadata": {
        "id": "rQg1hVKKP8cL"
      }
    },
    {
      "cell_type": "code",
      "source": [
        "search_term = '' # 'Financial Statistics' "
      ],
      "metadata": {
        "id": "7sMHCMUr80wR"
      },
      "execution_count": 4,
      "outputs": []
    },
    {
      "cell_type": "code",
      "source": [
        "url = 'http://dataservices.imf.org/REST/SDMX_JSON.svc/'\n",
        "key = 'Dataflow'\n",
        "\n",
        "series_list = requests.get(f'{url}{key}').json()['Structure']['Dataflows']['Dataflow']\n",
        "\n",
        "for series in series_list:\n",
        "    name = series['Name']['#text'].lower()\n",
        "    if (search_term.lower() in name) and not any(char.isdigit() for char in name):\n",
        "        print(f\"{series['Name']['#text']}: {series['KeyFamilyRef']['KeyFamilyID']}\")"
      ],
      "metadata": {
        "colab": {
          "base_uri": "https://localhost:8080/"
        },
        "id": "WeqEZHCHQPjo",
        "outputId": "0d7d950f-e523-4d7d-b4ab-3ba4d7f4379b"
      },
      "execution_count": 6,
      "outputs": [
        {
          "output_type": "stream",
          "name": "stdout",
          "text": [
            "Historical Public Debt (HPDD): HPDD\n",
            "Gender Equality: GENDER_EQUALITY\n",
            "Public Sector Balance Sheet (PSBS)(FAD): PSBSFAD\n",
            "Private and Public Capital Stock Dataset: PGCS\n",
            "Gender Budgeting: GENDER_BUDGETING\n",
            "Consumer Price Index (CPI): CPI\n",
            "International Reserves and Foreign Currency Liquidity (IRFCL): IRFCL\n",
            "International Financial Statistics (IFS), Discontinued Series: IFS_DISCONTINUED\n",
            "Export Quality: EQ\n",
            "Export Diversification: ED\n",
            "Balance of Payments (BOP), World and Regional Aggregates: BOPAGG\n",
            "Coordinated Direct Investment Survey (CDIS): CDIS\n",
            "World Revenue Longitudinal Data (WoRLD): WoRLD\n",
            "Sustainable Development Goals, IMF Inputs: UNSDG_IMF_INPUTS\n",
            "Financial Development Index: FDI\n",
            "Fiscal Decentralization: FISCALDECENTRALIZATION\n",
            "Commodity Terms of Trade: PCTOT\n",
            "Coordinated Portfolio Investment Survey (CPIS): CPIS\n",
            "Currency Composition of Official Foreign Exchange Reserves (COFER): COFER\n",
            "Primary Commodity Price System (PCPS): PCPS\n",
            "Fiscal Monitor (FM): FM\n",
            "Sub-Saharan Africa Regional Economic Outlook (AFRREO): AFRREO\n",
            "Balance of Payments (BOP): BOP\n",
            "Asia and Pacific Regional Economic Outlook (APDREO): APDREO\n",
            "Direction of Trade Statistics (DOTS): DOT\n",
            "Middle East and Central Asia Regional Economic Outlook (MCDREO): MCDREO\n",
            "International Financial Statistics (IFS): IFS\n",
            "Monetary and Financial Statistics (MFS): MFS\n",
            "Western Hemisphere Regional Economic Outlook (WHDREO): WHDREO\n",
            "Financial Soundness Indicators (FSIs): FSI\n",
            "Financial Soundness Indicators: Reporting entities: FSIRE\n",
            "Financial Access Survey (FAS): FAS\n",
            "Balance of Payments (BOP), Global SDMX (US Dollars): BOPSDMXUSD\n",
            "System of National Accounts (SNA), NA_MAIN: NAMAIN_IDC_N\n",
            "Government Finance Statistics (GFS), Revenue: GFSR\n",
            "Government Finance Statistics (GFS), Statement of Sources and Uses of Cash: GFSSSUC\n",
            "Government Finance Statistics (GFS), Expenditure by Function of Government (COFOG): GFSCOFOG\n",
            "Government Finance Statistics (GFS), Financial Assets and Liabilities by Counterpart Sector: GFSFALCS\n",
            "Government Finance Statistics (GFS), Integrated Balance Sheet (Stock Positions and Flows in Assets and Liabilities): GFSIBS\n",
            "Government Finance Statistics (GFS), Main Aggregates and Balances: GFSMAB\n",
            "Government Finance Statistics (GFS), Expense: GFSE\n"
          ]
        }
      ]
    },
    {
      "cell_type": "markdown",
      "source": [
        "The **DataStructure** method returns the structure of the dataset.\n",
        "In order to obtain the data use the following request:\n",
        "```\n",
        "http://dataservices.imf.org/REST/SDMX_JSON.svc/DataStructure/{database ID}\n",
        "```\n",
        "\n",
        "The exact format of the key in the API request is determined by the structure of the series. For IFS data, the dimentions are area, frequency and indicator, which is exactly what we extrated in the IFS data extraction example.\n",
        "\n",
        "The dimensions of the data are found with the DataStructure method and series specific, so that the full key becomes ```DataStructure/IFS```."
      ],
      "metadata": {
        "id": "rhCgJG9OWd6i"
      }
    },
    {
      "cell_type": "code",
      "source": [
        "series = 'IFS'  # International Financial Statistics (IFS)\n",
        "key = f'DataStructure/{series}'\n",
        "\n",
        "dimension_list = requests.get(f'{url}{key}').json()['Structure']['KeyFamilies']['KeyFamily']['Components']['Dimension']\n",
        "\n",
        "for n, dimension in enumerate(dimension_list):\n",
        "    print(f\"Dimension {n+1}: {dimension['@codelist']}\")"
      ],
      "metadata": {
        "colab": {
          "base_uri": "https://localhost:8080/"
        },
        "id": "Bg1zwIrTXeUy",
        "outputId": "5c4cb998-8309-40ed-c47b-d4c60dfbb7f7"
      },
      "execution_count": 13,
      "outputs": [
        {
          "output_type": "stream",
          "name": "stdout",
          "text": [
            "Dimension 1: CL_FREQ\n",
            "Dimension 2: CL_AREA_IFS\n",
            "Dimension 3: CL_INDICATOR_IFS\n"
          ]
        }
      ]
    },
    {
      "cell_type": "code",
      "source": [
        "series = 'GFSR'  # Government Finance Statistics (GFS), Revenue\n",
        "key = f'DataStructure/{series}'\n",
        "\n",
        "dimension_list = requests.get(f'{url}{key}').json()['Structure']['KeyFamilies']['KeyFamily']['Components']['Dimension']\n",
        "\n",
        "for n, dimension in enumerate(dimension_list):\n",
        "    print(f\"Dimension {n+1}: {dimension['@codelist']}\")"
      ],
      "metadata": {
        "colab": {
          "base_uri": "https://localhost:8080/"
        },
        "id": "tGtJzRfldhtM",
        "outputId": "49b41c3b-63d6-4366-d6ef-7705f8909585"
      },
      "execution_count": 14,
      "outputs": [
        {
          "output_type": "stream",
          "name": "stdout",
          "text": [
            "Dimension 1: CL_FREQ\n",
            "Dimension 2: CL_AREA_GFSR\n",
            "Dimension 3: CL_SECTOR_GFSR\n",
            "Dimension 4: CL_UNIT_GFSR\n",
            "Dimension 5: CL_INDICATOR_GFSR\n"
          ]
        }
      ]
    },
    {
      "cell_type": "markdown",
      "source": [
        "The **CodeList** method returns the description of CodeLists.\n",
        "In order to obtain the data use the following request:\n",
        "```\n",
        "http://dataservices.imf.org/REST/SDMX_JSON.svc/CodeList/{codelist code}_{database ID}\n",
        "```\n",
        "\n",
        "To find the list of possible codes for each dimension, we can use the CodeList method for the area and indicator dimensions above, ``` CL_AREA_IFS, CL_INDICATOR_IFS```. Top 5 are selected for both ```CL_AREA_IFS``` and ```CL_INDICATOR_IFS```."
      ],
      "metadata": {
        "id": "LaivMHJyLN4h"
      }
    },
    {
      "cell_type": "code",
      "source": [
        "series = 'GFSR'"
      ],
      "metadata": {
        "id": "SO4HFuhcfiAS"
      },
      "execution_count": 37,
      "outputs": []
    },
    {
      "cell_type": "code",
      "source": [
        "dimension = dimension_list[1]['@codelist']\n",
        "key = f\"CodeList/{dimension}\"\n",
        "print(dimension)\n",
        "print('---------------------------------------------')\n",
        "code_list = requests.get(f'{url}{key}').json()['Structure']['CodeLists']['CodeList']['Code']\n",
        "\n",
        "for i in range(5) :\n",
        "    print(f\"{code_list[i]['Description']['#text']}: {code_list[i]['@value']}\")"
      ],
      "metadata": {
        "colab": {
          "base_uri": "https://localhost:8080/"
        },
        "id": "sc_LJgmeflaf",
        "outputId": "0ec6d896-87a1-41ad-c57b-1651c092bc05"
      },
      "execution_count": 39,
      "outputs": [
        {
          "output_type": "stream",
          "name": "stdout",
          "text": [
            "CL_AREA_GFSR\n",
            "---------------------------------------------\n",
            "Afghanistan: AF\n",
            "Albania: AL\n",
            "Algeria: DZ\n",
            "Angola: AO\n",
            "Anguilla: AI\n"
          ]
        }
      ]
    },
    {
      "cell_type": "code",
      "source": [
        "dimension = dimension_list[4]['@codelist']\n",
        "key = f\"CodeList/{dimension}\"\n",
        "print(dimension)\n",
        "print('---------------------------------------------')\n",
        "code_list = requests.get(f'{url}{key}').json()['Structure']['CodeLists']['CodeList']['Code']\n",
        "\n",
        "for i in range(5) :\n",
        "    print(f\"{code_list[i]['Description']['#text']}: {code_list[i]['@value']}\")"
      ],
      "metadata": {
        "colab": {
          "base_uri": "https://localhost:8080/"
        },
        "id": "zD_9-L7MfyK4",
        "outputId": "754deb80-610c-4f1e-9375-f67bedc9fb57"
      },
      "execution_count": 43,
      "outputs": [
        {
          "output_type": "stream",
          "name": "stdout",
          "text": [
            "CL_INDICATOR_GFSR\n",
            "---------------------------------------------\n",
            "Customs & other import duties: W0_S1_G1151\n",
            "Dividend revenue: W0_S1_G1412\n",
            "Excise taxes: W0_S1_G1142\n",
            "General taxes on goods & services: W0_S1_G1141\n",
            "Grants in cash: W0_S1_G1M13A\n"
          ]
        }
      ]
    },
    {
      "cell_type": "markdown",
      "source": [
        "The **CompactData** method returns the compact data message. In order to obtain the data use the following request:\n",
        "```\n",
        "http://dataservices.imf.org/REST/SDMX_JSON.svc/CompactData/{database ID}/{frequency}.{item1 from\n",
        "dimension1}+{item2 from dimension1}+{item N from dimension1}.{item1 from\n",
        "dimension2}+{item2 from dimension2}+{item M from dimension2}?startPeriod={start\n",
        "date}&endPeriod={end date}\n",
        "```\n",
        "\n",
        "In the request above the different components mean the following: \n",
        "\n",
        "Database ID (Series): The broad group of indicators, in this case International Financial Statistics IFS;\n",
        "\n",
        "Frequency: monthly M, quarterly Q, or annually A;\n",
        "\n",
        "Aimention 1 (Area): The country, region, or set of countries, for example ```GB``` for the U.K., or ```GB+US``` for the U.K. and the U.S.;\n",
        "\n",
        "Dimention 2 (Indicator): The code for the indicator of interest. IFS includes more than 2,500. In the example above, the code of interest is ```NGDP_R_NSA_XDC```;\n",
        "\n",
        "Date Range (*Optional*): Use this to limit the data range returned, for example ```?startPeriod=2010&endPeriod=2017``` otherwise the full set of data is returned.\n",
        "\n",
        "The order in which codes are combined is referred to as the dimensions of the data, in the IFS case: \n",
        "```\n",
        "{Method}/{Series}/{Frequency}.{Area}.{Indicator}.{Date Range}\n",
        "```"
      ],
      "metadata": {
        "id": "0eLaBtSsYxzf"
      }
    },
    {
      "cell_type": "code",
      "source": [
        "series = 'IFS'\n",
        "frequency = 'Q'\n",
        "area = 'GB'\n",
        "code = 'NGDP_SA_XDC'\n",
        "time_start = 2020\n",
        "time_end = 2022"
      ],
      "metadata": {
        "id": "Y24ubTgD856E"
      },
      "execution_count": 70,
      "outputs": []
    },
    {
      "cell_type": "code",
      "source": [
        "key = f'CompactData/{series}/{frequency}.{area}.{code}.?startPeriod={time_start}&endPeriod={time_end}'\n",
        "print(f'The data access link: {url}{key}\\n')"
      ],
      "metadata": {
        "id": "C9vJtG-tXeeA",
        "colab": {
          "base_uri": "https://localhost:8080/"
        },
        "outputId": "efe14644-1bfc-4b09-8728-1c69a7b57c4b"
      },
      "execution_count": 71,
      "outputs": [
        {
          "output_type": "stream",
          "name": "stdout",
          "text": [
            "The data access link: http://dataservices.imf.org/REST/SDMX_JSON.svc/CompactData/IFS/Q.GB.NGDP_SA_XDC.?startPeriod=2020&endPeriod=2022\n",
            "\n"
          ]
        }
      ]
    },
    {
      "cell_type": "markdown",
      "source": [
        "The data variable below contains all the data that fits the parameters defined above. We will peak into the latest observation. "
      ],
      "metadata": {
        "id": "RFiEdpPbQNiU"
      }
    },
    {
      "cell_type": "code",
      "source": [
        "data = (requests.get(f'{url}{key}').json()['CompactData']['DataSet']['Series'])\n",
        "print(f\"Latest observation: {data['Obs'][-1]}\")"
      ],
      "metadata": {
        "colab": {
          "base_uri": "https://localhost:8080/"
        },
        "id": "u1tmO83je4rM",
        "outputId": "17a0ae6b-af52-4c4b-c991-5fdb38b1486e"
      },
      "execution_count": 73,
      "outputs": [
        {
          "output_type": "stream",
          "name": "stdout",
          "text": [
            "Latest observation: {'@TIME_PERIOD': '2022-Q2', '@OBS_VALUE': '619570'}\n"
          ]
        }
      ]
    },
    {
      "cell_type": "markdown",
      "source": [
        "*The* **MetadataStructure** method returns the metadata structure of the dataset.\n",
        "In order to obtain the data use the following request:\n",
        "```\n",
        "http://dataservices.imf.org/REST/SDMX_JSON.svc/MetadataStructure/{database ID}\n",
        "```\n",
        "\n",
        "The metadata structute for IFS is the following:"
      ],
      "metadata": {
        "id": "kRPyE2eofKFC"
      }
    },
    {
      "cell_type": "code",
      "source": [
        "series = 'IFS'"
      ],
      "metadata": {
        "id": "XI9opaUQh3Jm"
      },
      "execution_count": 67,
      "outputs": []
    },
    {
      "cell_type": "code",
      "source": [
        "key = f'MetadataStructure/{series}'\n",
        "\n",
        "metadata_list = requests.get(f'{url}{key}').json()['Structure']['Concepts'][\"ConceptScheme\"][0][\"Concept\"]\n",
        "for metadata in metadata_list:\n",
        "  print(metadata[\"@id\"])"
      ],
      "metadata": {
        "colab": {
          "base_uri": "https://localhost:8080/"
        },
        "id": "szgUHFVpgmsX",
        "outputId": "c070babe-8923-4b66-e081-8e5e7d7d383c"
      },
      "execution_count": 68,
      "outputs": [
        {
          "output_type": "stream",
          "name": "stdout",
          "text": [
            "OBS_VALUE\n",
            "UNIT_MULT\n",
            "TIME_FORMAT\n",
            "FREQ\n",
            "REF_AREA\n",
            "INDICATOR\n",
            "BASE_YEAR\n",
            "TIME_PERIOD\n",
            "OBS_STATUS\n"
          ]
        }
      ]
    },
    {
      "cell_type": "markdown",
      "source": [
        "The **GenericMetadata** method returns the generic metadata message.\n",
        "In order to obtain the data use the following request:\n",
        "```\n",
        "http://dataservices.imf.org/REST/SDMX_JSON.svc/GenericMetadata/{database ID}/{item1 from dimension1}+{item2 from dimension1}+{item N from dimension1}.{item1 from dimension2}+{item2 from dimension2}+{item M from dimension2}?startPeriod={start date}&endPeriod={end date}\n",
        "```"
      ],
      "metadata": {
        "id": "FX_Mobq0HE_K"
      }
    },
    {
      "cell_type": "markdown",
      "source": [
        "Here is the metadata for the dimentions we specified above."
      ],
      "metadata": {
        "id": "vGYebcxBhv8J"
      }
    },
    {
      "cell_type": "code",
      "source": [
        "key = f'GenericMetadata/{series}/{frequency}.{area}.{code}'\n",
        "metadata = requests.get(f'{url}{key}').json()"
      ],
      "metadata": {
        "id": "BDgSUw1jHrA7"
      },
      "execution_count": 74,
      "outputs": []
    },
    {
      "cell_type": "code",
      "source": [
        "country = metadata['GenericMetadata']['MetadataSet']['AttributeValueSet'][1]['ReportedAttribute'][1]['ReportedAttribute'][3]['Value']['#text']\n",
        "indicator = metadata['GenericMetadata']['MetadataSet']['AttributeValueSet'][2]['ReportedAttribute'][1]['ReportedAttribute'][4]['Value']['#text']\n",
        "\n",
        "print(f'Country: {country}; Indicator: {indicator}')"
      ],
      "metadata": {
        "colab": {
          "base_uri": "https://localhost:8080/"
        },
        "id": "M57r5ePQgPYt",
        "outputId": "bdd02d46-9a7c-4e47-b0d0-225b28c87acd"
      },
      "execution_count": 75,
      "outputs": [
        {
          "output_type": "stream",
          "name": "stdout",
          "text": [
            "Country: United Kingdom; Indicator: Gross Domestic Product, Nominal, Seasonally Adjusted\n"
          ]
        }
      ]
    },
    {
      "cell_type": "markdown",
      "source": [
        "We can also retrieve all the metadata related to one of the dimentions, for example, the frequency.\n",
        "Dimentions: ```'REF_AREA', 'INDICATOR', 'FREQ'```"
      ],
      "metadata": {
        "id": "U_enGsfth43t"
      }
    },
    {
      "cell_type": "code",
      "source": [
        "def get_metadata(series = 'IFS'): \n",
        "  url = 'http://dataservices.imf.org/REST/SDMX_JSON.svc/'\n",
        "  key = f'GenericMetadata/{series}'\n",
        "  metadata = requests.get(f'{url}{key}').json()['GenericMetadata']['MetadataSet']['AttributeValueSet']\n",
        "  return metadata"
      ],
      "metadata": {
        "id": "3qO-_jm5k0qt"
      },
      "execution_count": 76,
      "outputs": []
    },
    {
      "cell_type": "code",
      "source": [
        "def print_metadata(metadata = metadata, indicator = 'FREQ'):\n",
        "  for i in range(len(metadata)):\n",
        "    ind = metadata[i]['ReportedAttribute'][1]['@conceptID']\n",
        "    if ind == indicator:\n",
        "      output = metadata[i]['ReportedAttribute'][1]['ReportedAttribute']\n",
        "      print( output[0]['Value']['#text'],\": \", output[2]['Value']['#text'] )"
      ],
      "metadata": {
        "id": "Dswn1IZSdqlG"
      },
      "execution_count": 77,
      "outputs": []
    },
    {
      "cell_type": "code",
      "source": [
        "metadata = get_metadata(series = 'IFS')"
      ],
      "metadata": {
        "id": "PNBmnGS5lGtC"
      },
      "execution_count": 78,
      "outputs": []
    },
    {
      "cell_type": "code",
      "source": [
        "print_metadata(metadata = metadata, indicator = 'FREQ') "
      ],
      "metadata": {
        "colab": {
          "base_uri": "https://localhost:8080/"
        },
        "id": "pJxgyOn1ikRn",
        "outputId": "2409300b-9dcf-41ec-8a3b-83ec277bda25"
      },
      "execution_count": 81,
      "outputs": [
        {
          "output_type": "stream",
          "name": "stdout",
          "text": [
            "Annual :  A\n",
            "Quarterly :  Q\n",
            "Monthly :  M\n"
          ]
        }
      ]
    },
    {
      "cell_type": "markdown",
      "source": [
        "The **MaxSeriesInResult** method returns the maximum number of time series that can be returned by CompactData.\n",
        "In order to obtain the data use the following request:\n",
        "```\n",
        "http://dataservices.imf.org/REST/SDMX_JSON.svc/GetMaxSeriesInResult\n",
        "```"
      ],
      "metadata": {
        "id": "qTOx_7PoM2f1"
      }
    },
    {
      "cell_type": "code",
      "source": [
        "url = 'http://dataservices.imf.org/REST/SDMX_JSON.svc/GetMaxSeriesInResult'\n",
        "\n",
        "num = requests.get(f'{url}').json()\n",
        "print(num)"
      ],
      "metadata": {
        "colab": {
          "base_uri": "https://localhost:8080/"
        },
        "id": "tjvDGv5tM_zK",
        "outputId": "46c40b0d-f4fc-41a7-82f9-295e5d75b8b7"
      },
      "execution_count": null,
      "outputs": [
        {
          "output_type": "stream",
          "name": "stdout",
          "text": [
            "3000\n"
          ]
        }
      ]
    },
    {
      "cell_type": "markdown",
      "source": [
        "The results shows how many series can be extracted using the url, where multiple dimention values are listed with '+' as a separator:<br>\n",
        "```http://dataservices.imf.org/REST/SDMX_JSON.svc/CompactData/{database ID}/{frequency}.{item1 from\n",
        "dimension1}+{item2 from dimension1}+{item N from dimension1}.{item1 from\n",
        "dimension2}+{item2 from dimension2}+{item M from dimension2}?startPeriod={start\n",
        "date}&endPeriod={end date}```"
      ],
      "metadata": {
        "id": "KlRKgORAqE_H"
      }
    },
    {
      "cell_type": "markdown",
      "source": [
        "In this notebook, we have explored the methods available in the IMF's JSON RESTful Web Service API for data and metadata extraction using the IFS series as example."
      ],
      "metadata": {
        "id": "dogrBJpHQpWy"
      }
    }
  ],
  "metadata": {
    "colab": {
      "collapsed_sections": [],
      "provenance": []
    },
    "gpuClass": "standard",
    "kernelspec": {
      "display_name": "Python 3",
      "name": "python3"
    },
    "language_info": {
      "name": "python"
    }
  },
  "nbformat": 4,
  "nbformat_minor": 0
}