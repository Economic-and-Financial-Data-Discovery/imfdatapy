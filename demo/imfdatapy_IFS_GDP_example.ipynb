{
 "cells": [
  {
   "cell_type": "markdown",
   "metadata": {
    "id": "_UFtM0wfnFGA"
   },
   "source": [
    "# Extraction of International Financial Statistics data from the IMF\n",
    "\n",
    "The example below retrieves quarterly (period: Q) Seasonally Adjusted Real Gross Domestic Product (indicator: NGDP_R_SA_XDC) for the USA (country code: US), from the International Financial Statistics (IFS) series using the **imfdatapy** package. The function call returns the observation values, and the time period for each value (in the format YYYY-MM-DD).\n",
    "\n",
    "First, we begin with loading the **imfdatapy** library for data extraction and from the IMF and **pandas** for data manipulation."
   ]
  },
  {
   "cell_type": "markdown",
   "metadata": {
    "id": "tzbBflLjmjbU"
   },
   "source": [
    "##  `**imfdatapy**` package \n",
    "\n",
    "Source code foris available on [Github](https://github.com/Economic-and-Financial-Data-Discovery/imfdatapy)."
   ]
  },
  {
   "cell_type": "markdown",
   "metadata": {
    "id": "3sZk8Sjomb6m"
   },
   "source": [
    "The package can be installed using ```pip```."
   ]
  },
  {
   "cell_type": "raw",
   "metadata": {
    "colab": {
     "base_uri": "https://localhost:8080/"
    },
    "id": "lYXmOrgWl2QK",
    "outputId": "fc31d910-c325-4691-b09d-613223755c8b"
   },
   "source": [
    "!pip install imfdatapy"
   ]
  },
  {
   "cell_type": "code",
   "execution_count": 1,
   "metadata": {
    "id": "HFR-i1cpGY42"
   },
   "outputs": [
    {
     "name": "stderr",
     "output_type": "stream",
     "text": [
      "2023-02-13 21:30:20,384 imf_log.py:39 - INFO - Current directory C:\\Users\\sahil\\OneDrive\\Desktop\\IITC RA Work\\imfdatapy\\demo\n",
      "2023-02-13 21:30:20,384 imf_log.py:40 - INFO - Started log ../log/imfdatapy_2023-02-13-21-30-20.log\n"
     ]
    }
   ],
   "source": [
    "from imfdatapy.imf import *"
   ]
  },
  {
   "cell_type": "code",
   "execution_count": 2,
   "metadata": {
    "id": "vvHcG8W7nwS2"
   },
   "outputs": [],
   "source": [
    "import pandas as pd # for QoQ change calculation"
   ]
  },
  {
   "cell_type": "markdown",
   "metadata": {
    "id": "93iKlpqynzVW"
   },
   "source": [
    "To download the data from the International Financial Statistics, we use the ```IFS``` class, provding the search terms for the index we are looking for, the country code, the period frequency (Q) and the period. Use the ```download_data``` method to download the data and the metadata to '../out' folder and create a pandas dataframe. The log messages specify which files are created in the '../out' directory."
   ]
  },
  {
   "cell_type": "code",
   "execution_count": 3,
   "metadata": {
    "id": "neb-Yq05AYHB"
   },
   "outputs": [],
   "source": [
    "pd.options.display.max_colwidth = 90"
   ]
  },
  {
   "cell_type": "code",
   "execution_count": 4,
   "metadata": {
    "colab": {
     "base_uri": "https://localhost:8080/",
     "height": 562
    },
    "id": "6Q2wA-YyBAy9",
    "outputId": "08ff1c50-3684-4242-d9cf-092a16826b38"
   },
   "outputs": [
    {
     "name": "stderr",
     "output_type": "stream",
     "text": [
      "2023-02-13 21:30:20,437 imf.py:59 - INFO - Inputs: series = 'IFS', search_terms = ['gross domestic product'], countries = ['US'], start_date = '2010', end_date = '2023'\n",
      "2023-02-13 21:30:27,364 imf.py:139 - INFO - Output all IMF series in a (259, 11) table to ..\\out\\series_imf.csv\n",
      "2023-02-13 21:30:27,434 imf.py:141 - INFO - Output series containing 'IFS' in a (49, 11) table to ..\\out\\series_ifs.csv\n",
      "2023-02-13 21:32:16,259 imf.py:166 - INFO - Output dimension CL_FREQ_IFS in a (3, 2) table to ..\\out\\dim_cl_freq_ifs.csv\n",
      "2023-02-13 21:32:23,266 imf.py:166 - INFO - Output dimension CL_AREA_IFS in a (278, 3) table to ..\\out\\dim_cl_area_ifs.csv\n",
      "2023-02-13 21:32:29,991 imf.py:166 - INFO - Output dimension CL_INDICATOR_IFS in a (1679, 3) table to ..\\out\\dim_cl_indicator_ifs.csv\n",
      "2023-02-13 21:32:36,932 imf.py:187 - INFO - Output meta data of IFS in a (1679, 3) table to ..\\out\\meta_ifs.csv\n",
      "2023-02-13 21:32:44,113 imf.py:189 - INFO - Output meta data of IFS with search search_terms ['gross domestic product'] in a (8, 3) table to ..\\out\\meta_gross domestic product_US_Q_2010_2023.csv\n",
      "2023-02-13 21:32:57,547 imf.py:212 - INFO - Output data of IFS containing 'gross domestic product' in a (260, 10) table to ..\\out\\data_gross domestic product_US_Q_2010_2023.csv\n"
     ]
    },
    {
     "data": {
      "text/html": [
       "<div>\n",
       "<style scoped>\n",
       "    .dataframe tbody tr th:only-of-type {\n",
       "        vertical-align: middle;\n",
       "    }\n",
       "\n",
       "    .dataframe tbody tr th {\n",
       "        vertical-align: top;\n",
       "    }\n",
       "\n",
       "    .dataframe thead th {\n",
       "        text-align: right;\n",
       "    }\n",
       "</style>\n",
       "<table border=\"1\" class=\"dataframe\">\n",
       "  <thead>\n",
       "    <tr style=\"text-align: right;\">\n",
       "      <th></th>\n",
       "      <th>VALUE</th>\n",
       "      <th>FREQ</th>\n",
       "      <th>COUNTRY</th>\n",
       "      <th>ID</th>\n",
       "      <th>UNIT_MULT</th>\n",
       "      <th>BASE_YEAR</th>\n",
       "      <th>TIME_FORMAT</th>\n",
       "      <th>PERIOD</th>\n",
       "      <th>DESCRIPTION.XML_LANG</th>\n",
       "      <th>DESCRIPTION</th>\n",
       "    </tr>\n",
       "  </thead>\n",
       "  <tbody>\n",
       "    <tr>\n",
       "      <th>0</th>\n",
       "      <td>99.3392105021347</td>\n",
       "      <td>Q</td>\n",
       "      <td>US</td>\n",
       "      <td>NGDP_D_SA_IX</td>\n",
       "      <td>0</td>\n",
       "      <td>2010</td>\n",
       "      <td>P3M</td>\n",
       "      <td>2010-01-01</td>\n",
       "      <td>en</td>\n",
       "      <td>Gross Domestic Product, Deflator, Seasonally Adjusted, Index</td>\n",
       "    </tr>\n",
       "    <tr>\n",
       "      <th>1</th>\n",
       "      <td>99.8236914454449</td>\n",
       "      <td>Q</td>\n",
       "      <td>US</td>\n",
       "      <td>NGDP_D_SA_IX</td>\n",
       "      <td>0</td>\n",
       "      <td>2010</td>\n",
       "      <td>P3M</td>\n",
       "      <td>2010-04-01</td>\n",
       "      <td>en</td>\n",
       "      <td>Gross Domestic Product, Deflator, Seasonally Adjusted, Index</td>\n",
       "    </tr>\n",
       "    <tr>\n",
       "      <th>2</th>\n",
       "      <td>100.125182516395</td>\n",
       "      <td>Q</td>\n",
       "      <td>US</td>\n",
       "      <td>NGDP_D_SA_IX</td>\n",
       "      <td>0</td>\n",
       "      <td>2010</td>\n",
       "      <td>P3M</td>\n",
       "      <td>2010-07-01</td>\n",
       "      <td>en</td>\n",
       "      <td>Gross Domestic Product, Deflator, Seasonally Adjusted, Index</td>\n",
       "    </tr>\n",
       "    <tr>\n",
       "      <th>3</th>\n",
       "      <td>100.711915536026</td>\n",
       "      <td>Q</td>\n",
       "      <td>US</td>\n",
       "      <td>NGDP_D_SA_IX</td>\n",
       "      <td>0</td>\n",
       "      <td>2010</td>\n",
       "      <td>P3M</td>\n",
       "      <td>2010-10-01</td>\n",
       "      <td>en</td>\n",
       "      <td>Gross Domestic Product, Deflator, Seasonally Adjusted, Index</td>\n",
       "    </tr>\n",
       "    <tr>\n",
       "      <th>4</th>\n",
       "      <td>101.231913593634</td>\n",
       "      <td>Q</td>\n",
       "      <td>US</td>\n",
       "      <td>NGDP_D_SA_IX</td>\n",
       "      <td>0</td>\n",
       "      <td>2010</td>\n",
       "      <td>P3M</td>\n",
       "      <td>2011-01-01</td>\n",
       "      <td>en</td>\n",
       "      <td>Gross Domestic Product, Deflator, Seasonally Adjusted, Index</td>\n",
       "    </tr>\n",
       "    <tr>\n",
       "      <th>...</th>\n",
       "      <td>...</td>\n",
       "      <td>...</td>\n",
       "      <td>...</td>\n",
       "      <td>...</td>\n",
       "      <td>...</td>\n",
       "      <td>...</td>\n",
       "      <td>...</td>\n",
       "      <td>...</td>\n",
       "      <td>...</td>\n",
       "      <td>...</td>\n",
       "    </tr>\n",
       "    <tr>\n",
       "      <th>99</th>\n",
       "      <td>6087280.3</td>\n",
       "      <td>Q</td>\n",
       "      <td>US</td>\n",
       "      <td>NGDP_SA_XDC</td>\n",
       "      <td>6</td>\n",
       "      <td>NaN</td>\n",
       "      <td>P3M</td>\n",
       "      <td>2021-10-01</td>\n",
       "      <td>en</td>\n",
       "      <td>Gross Domestic Product, Nominal, Seasonally Adjusted, Domestic Currency</td>\n",
       "    </tr>\n",
       "    <tr>\n",
       "      <th>100</th>\n",
       "      <td>6185120</td>\n",
       "      <td>Q</td>\n",
       "      <td>US</td>\n",
       "      <td>NGDP_SA_XDC</td>\n",
       "      <td>6</td>\n",
       "      <td>NaN</td>\n",
       "      <td>P3M</td>\n",
       "      <td>2022-01-01</td>\n",
       "      <td>en</td>\n",
       "      <td>Gross Domestic Product, Nominal, Seasonally Adjusted, Domestic Currency</td>\n",
       "    </tr>\n",
       "    <tr>\n",
       "      <th>101</th>\n",
       "      <td>6312119</td>\n",
       "      <td>Q</td>\n",
       "      <td>US</td>\n",
       "      <td>NGDP_SA_XDC</td>\n",
       "      <td>6</td>\n",
       "      <td>NaN</td>\n",
       "      <td>P3M</td>\n",
       "      <td>2022-04-01</td>\n",
       "      <td>en</td>\n",
       "      <td>Gross Domestic Product, Nominal, Seasonally Adjusted, Domestic Currency</td>\n",
       "    </tr>\n",
       "    <tr>\n",
       "      <th>102</th>\n",
       "      <td>6430985.3</td>\n",
       "      <td>Q</td>\n",
       "      <td>US</td>\n",
       "      <td>NGDP_SA_XDC</td>\n",
       "      <td>6</td>\n",
       "      <td>NaN</td>\n",
       "      <td>P3M</td>\n",
       "      <td>2022-07-01</td>\n",
       "      <td>en</td>\n",
       "      <td>Gross Domestic Product, Nominal, Seasonally Adjusted, Domestic Currency</td>\n",
       "    </tr>\n",
       "    <tr>\n",
       "      <th>103</th>\n",
       "      <td>6533114.5</td>\n",
       "      <td>Q</td>\n",
       "      <td>US</td>\n",
       "      <td>NGDP_SA_XDC</td>\n",
       "      <td>6</td>\n",
       "      <td>NaN</td>\n",
       "      <td>P3M</td>\n",
       "      <td>2022-10-01</td>\n",
       "      <td>en</td>\n",
       "      <td>Gross Domestic Product, Nominal, Seasonally Adjusted, Domestic Currency</td>\n",
       "    </tr>\n",
       "  </tbody>\n",
       "</table>\n",
       "<p>260 rows × 10 columns</p>\n",
       "</div>"
      ],
      "text/plain": [
       "                VALUE FREQ COUNTRY            ID UNIT_MULT BASE_YEAR  \\\n",
       "0    99.3392105021347    Q      US  NGDP_D_SA_IX         0      2010   \n",
       "1    99.8236914454449    Q      US  NGDP_D_SA_IX         0      2010   \n",
       "2    100.125182516395    Q      US  NGDP_D_SA_IX         0      2010   \n",
       "3    100.711915536026    Q      US  NGDP_D_SA_IX         0      2010   \n",
       "4    101.231913593634    Q      US  NGDP_D_SA_IX         0      2010   \n",
       "..                ...  ...     ...           ...       ...       ...   \n",
       "99          6087280.3    Q      US   NGDP_SA_XDC         6       NaN   \n",
       "100           6185120    Q      US   NGDP_SA_XDC         6       NaN   \n",
       "101           6312119    Q      US   NGDP_SA_XDC         6       NaN   \n",
       "102         6430985.3    Q      US   NGDP_SA_XDC         6       NaN   \n",
       "103         6533114.5    Q      US   NGDP_SA_XDC         6       NaN   \n",
       "\n",
       "    TIME_FORMAT     PERIOD DESCRIPTION.XML_LANG  \\\n",
       "0           P3M 2010-01-01                   en   \n",
       "1           P3M 2010-04-01                   en   \n",
       "2           P3M 2010-07-01                   en   \n",
       "3           P3M 2010-10-01                   en   \n",
       "4           P3M 2011-01-01                   en   \n",
       "..          ...        ...                  ...   \n",
       "99          P3M 2021-10-01                   en   \n",
       "100         P3M 2022-01-01                   en   \n",
       "101         P3M 2022-04-01                   en   \n",
       "102         P3M 2022-07-01                   en   \n",
       "103         P3M 2022-10-01                   en   \n",
       "\n",
       "                                                                 DESCRIPTION  \n",
       "0               Gross Domestic Product, Deflator, Seasonally Adjusted, Index  \n",
       "1               Gross Domestic Product, Deflator, Seasonally Adjusted, Index  \n",
       "2               Gross Domestic Product, Deflator, Seasonally Adjusted, Index  \n",
       "3               Gross Domestic Product, Deflator, Seasonally Adjusted, Index  \n",
       "4               Gross Domestic Product, Deflator, Seasonally Adjusted, Index  \n",
       "..                                                                       ...  \n",
       "99   Gross Domestic Product, Nominal, Seasonally Adjusted, Domestic Currency  \n",
       "100  Gross Domestic Product, Nominal, Seasonally Adjusted, Domestic Currency  \n",
       "101  Gross Domestic Product, Nominal, Seasonally Adjusted, Domestic Currency  \n",
       "102  Gross Domestic Product, Nominal, Seasonally Adjusted, Domestic Currency  \n",
       "103  Gross Domestic Product, Nominal, Seasonally Adjusted, Domestic Currency  \n",
       "\n",
       "[260 rows x 10 columns]"
      ]
     },
     "execution_count": 4,
     "metadata": {},
     "output_type": "execute_result"
    }
   ],
   "source": [
    "ifs = IFS(search_terms=[\"gross domestic product\"], countries=[\"US\"], period='Q', start_date=\"2010\",\n",
    "                  end_date=\"2023\")\n",
    "df = ifs.download_data()\n",
    "df"
   ]
  },
  {
   "cell_type": "markdown",
   "metadata": {
    "id": "cJaNSIekoblc"
   },
   "source": [
    "Here, all the data that matched the search term is loaded. To view the index names, use the meta data file as shown below."
   ]
  },
  {
   "cell_type": "code",
   "execution_count": 5,
   "metadata": {
    "id": "L6xoBi0OkN76"
   },
   "outputs": [],
   "source": [
    "meta = pd.read_csv('../out/meta_gross domestic product_US_Q_2010_2023.csv')"
   ]
  },
  {
   "cell_type": "code",
   "execution_count": 6,
   "metadata": {
    "colab": {
     "base_uri": "https://localhost:8080/",
     "height": 300
    },
    "id": "Ci-M8norkSgA",
    "outputId": "697c7693-5903-41ad-e890-076534ac22ec"
   },
   "outputs": [
    {
     "data": {
      "text/html": [
       "<div>\n",
       "<style scoped>\n",
       "    .dataframe tbody tr th:only-of-type {\n",
       "        vertical-align: middle;\n",
       "    }\n",
       "\n",
       "    .dataframe tbody tr th {\n",
       "        vertical-align: top;\n",
       "    }\n",
       "\n",
       "    .dataframe thead th {\n",
       "        text-align: right;\n",
       "    }\n",
       "</style>\n",
       "<table border=\"1\" class=\"dataframe\">\n",
       "  <thead>\n",
       "    <tr style=\"text-align: right;\">\n",
       "      <th></th>\n",
       "      <th>ID</th>\n",
       "      <th>DESCRIPTION.XML_LANG</th>\n",
       "      <th>DESCRIPTION</th>\n",
       "    </tr>\n",
       "  </thead>\n",
       "  <tbody>\n",
       "    <tr>\n",
       "      <th>0</th>\n",
       "      <td>NGDP_D_IX</td>\n",
       "      <td>en</td>\n",
       "      <td>Gross Domestic Product, Deflator, Index</td>\n",
       "    </tr>\n",
       "    <tr>\n",
       "      <th>1</th>\n",
       "      <td>NGDP_D_SA_IX</td>\n",
       "      <td>en</td>\n",
       "      <td>Gross Domestic Product, Deflator, Seasonally Adjusted, Index</td>\n",
       "    </tr>\n",
       "    <tr>\n",
       "      <th>2</th>\n",
       "      <td>NGDP_XDC</td>\n",
       "      <td>en</td>\n",
       "      <td>Gross Domestic Product, Nominal, Domestic Currency</td>\n",
       "    </tr>\n",
       "    <tr>\n",
       "      <th>3</th>\n",
       "      <td>NGDP_SA_XDC</td>\n",
       "      <td>en</td>\n",
       "      <td>Gross Domestic Product, Nominal, Seasonally Adjusted, Domestic Currency</td>\n",
       "    </tr>\n",
       "    <tr>\n",
       "      <th>4</th>\n",
       "      <td>NGDP_NSA_XDC</td>\n",
       "      <td>en</td>\n",
       "      <td>Gross Domestic Product, Nominal, Unadjusted, Domestic Currency</td>\n",
       "    </tr>\n",
       "    <tr>\n",
       "      <th>5</th>\n",
       "      <td>NGDP_R_XDC</td>\n",
       "      <td>en</td>\n",
       "      <td>Gross Domestic Product, Real, Domestic Currency</td>\n",
       "    </tr>\n",
       "    <tr>\n",
       "      <th>6</th>\n",
       "      <td>NGDP_R_SA_XDC</td>\n",
       "      <td>en</td>\n",
       "      <td>Gross Domestic Product, Real, Seasonally Adjusted, Domestic Currency</td>\n",
       "    </tr>\n",
       "    <tr>\n",
       "      <th>7</th>\n",
       "      <td>NGDP_R_NSA_XDC</td>\n",
       "      <td>en</td>\n",
       "      <td>Gross Domestic Product, Real, Unadjusted, Domestic Currency</td>\n",
       "    </tr>\n",
       "  </tbody>\n",
       "</table>\n",
       "</div>"
      ],
      "text/plain": [
       "               ID DESCRIPTION.XML_LANG  \\\n",
       "0       NGDP_D_IX                   en   \n",
       "1    NGDP_D_SA_IX                   en   \n",
       "2        NGDP_XDC                   en   \n",
       "3     NGDP_SA_XDC                   en   \n",
       "4    NGDP_NSA_XDC                   en   \n",
       "5      NGDP_R_XDC                   en   \n",
       "6   NGDP_R_SA_XDC                   en   \n",
       "7  NGDP_R_NSA_XDC                   en   \n",
       "\n",
       "                                                               DESCRIPTION  \n",
       "0                                  Gross Domestic Product, Deflator, Index  \n",
       "1             Gross Domestic Product, Deflator, Seasonally Adjusted, Index  \n",
       "2                       Gross Domestic Product, Nominal, Domestic Currency  \n",
       "3  Gross Domestic Product, Nominal, Seasonally Adjusted, Domestic Currency  \n",
       "4           Gross Domestic Product, Nominal, Unadjusted, Domestic Currency  \n",
       "5                          Gross Domestic Product, Real, Domestic Currency  \n",
       "6     Gross Domestic Product, Real, Seasonally Adjusted, Domestic Currency  \n",
       "7              Gross Domestic Product, Real, Unadjusted, Domestic Currency  "
      ]
     },
     "execution_count": 6,
     "metadata": {},
     "output_type": "execute_result"
    }
   ],
   "source": [
    "meta"
   ]
  },
  {
   "cell_type": "markdown",
   "metadata": {
    "id": "67JOhqa5opiH"
   },
   "source": [
    "We are interested in \tGross Domestic Product, Real, Seasonally Adjusted, Domestic Currency. We will filter the dataframe to contain only this index."
   ]
  },
  {
   "cell_type": "code",
   "execution_count": 7,
   "metadata": {
    "id": "Oqc48pEKgv9P"
   },
   "outputs": [],
   "source": [
    "df = df[df['ID']=='NGDP_SA_XDC'].reset_index()\n"
   ]
  },
  {
   "cell_type": "code",
   "execution_count": 8,
   "metadata": {
    "colab": {
     "base_uri": "https://localhost:8080/",
     "height": 206
    },
    "id": "-2ZdfOJQhD0R",
    "outputId": "50d2a7e9-958c-49f1-ba05-118da3a47cac"
   },
   "outputs": [
    {
     "data": {
      "text/html": [
       "<div>\n",
       "<style scoped>\n",
       "    .dataframe tbody tr th:only-of-type {\n",
       "        vertical-align: middle;\n",
       "    }\n",
       "\n",
       "    .dataframe tbody tr th {\n",
       "        vertical-align: top;\n",
       "    }\n",
       "\n",
       "    .dataframe thead th {\n",
       "        text-align: right;\n",
       "    }\n",
       "</style>\n",
       "<table border=\"1\" class=\"dataframe\">\n",
       "  <thead>\n",
       "    <tr style=\"text-align: right;\">\n",
       "      <th></th>\n",
       "      <th>index</th>\n",
       "      <th>VALUE</th>\n",
       "      <th>FREQ</th>\n",
       "      <th>COUNTRY</th>\n",
       "      <th>ID</th>\n",
       "      <th>UNIT_MULT</th>\n",
       "      <th>BASE_YEAR</th>\n",
       "      <th>TIME_FORMAT</th>\n",
       "      <th>PERIOD</th>\n",
       "      <th>DESCRIPTION.XML_LANG</th>\n",
       "      <th>DESCRIPTION</th>\n",
       "    </tr>\n",
       "  </thead>\n",
       "  <tbody>\n",
       "    <tr>\n",
       "      <th>47</th>\n",
       "      <td>99</td>\n",
       "      <td>6087280.3</td>\n",
       "      <td>Q</td>\n",
       "      <td>US</td>\n",
       "      <td>NGDP_SA_XDC</td>\n",
       "      <td>6</td>\n",
       "      <td>NaN</td>\n",
       "      <td>P3M</td>\n",
       "      <td>2021-10-01</td>\n",
       "      <td>en</td>\n",
       "      <td>Gross Domestic Product, Nominal, Seasonally Adjusted, Domestic Currency</td>\n",
       "    </tr>\n",
       "    <tr>\n",
       "      <th>48</th>\n",
       "      <td>100</td>\n",
       "      <td>6185120</td>\n",
       "      <td>Q</td>\n",
       "      <td>US</td>\n",
       "      <td>NGDP_SA_XDC</td>\n",
       "      <td>6</td>\n",
       "      <td>NaN</td>\n",
       "      <td>P3M</td>\n",
       "      <td>2022-01-01</td>\n",
       "      <td>en</td>\n",
       "      <td>Gross Domestic Product, Nominal, Seasonally Adjusted, Domestic Currency</td>\n",
       "    </tr>\n",
       "    <tr>\n",
       "      <th>49</th>\n",
       "      <td>101</td>\n",
       "      <td>6312119</td>\n",
       "      <td>Q</td>\n",
       "      <td>US</td>\n",
       "      <td>NGDP_SA_XDC</td>\n",
       "      <td>6</td>\n",
       "      <td>NaN</td>\n",
       "      <td>P3M</td>\n",
       "      <td>2022-04-01</td>\n",
       "      <td>en</td>\n",
       "      <td>Gross Domestic Product, Nominal, Seasonally Adjusted, Domestic Currency</td>\n",
       "    </tr>\n",
       "    <tr>\n",
       "      <th>50</th>\n",
       "      <td>102</td>\n",
       "      <td>6430985.3</td>\n",
       "      <td>Q</td>\n",
       "      <td>US</td>\n",
       "      <td>NGDP_SA_XDC</td>\n",
       "      <td>6</td>\n",
       "      <td>NaN</td>\n",
       "      <td>P3M</td>\n",
       "      <td>2022-07-01</td>\n",
       "      <td>en</td>\n",
       "      <td>Gross Domestic Product, Nominal, Seasonally Adjusted, Domestic Currency</td>\n",
       "    </tr>\n",
       "    <tr>\n",
       "      <th>51</th>\n",
       "      <td>103</td>\n",
       "      <td>6533114.5</td>\n",
       "      <td>Q</td>\n",
       "      <td>US</td>\n",
       "      <td>NGDP_SA_XDC</td>\n",
       "      <td>6</td>\n",
       "      <td>NaN</td>\n",
       "      <td>P3M</td>\n",
       "      <td>2022-10-01</td>\n",
       "      <td>en</td>\n",
       "      <td>Gross Domestic Product, Nominal, Seasonally Adjusted, Domestic Currency</td>\n",
       "    </tr>\n",
       "  </tbody>\n",
       "</table>\n",
       "</div>"
      ],
      "text/plain": [
       "    index      VALUE FREQ COUNTRY           ID UNIT_MULT BASE_YEAR  \\\n",
       "47     99  6087280.3    Q      US  NGDP_SA_XDC         6       NaN   \n",
       "48    100    6185120    Q      US  NGDP_SA_XDC         6       NaN   \n",
       "49    101    6312119    Q      US  NGDP_SA_XDC         6       NaN   \n",
       "50    102  6430985.3    Q      US  NGDP_SA_XDC         6       NaN   \n",
       "51    103  6533114.5    Q      US  NGDP_SA_XDC         6       NaN   \n",
       "\n",
       "   TIME_FORMAT     PERIOD DESCRIPTION.XML_LANG  \\\n",
       "47         P3M 2021-10-01                   en   \n",
       "48         P3M 2022-01-01                   en   \n",
       "49         P3M 2022-04-01                   en   \n",
       "50         P3M 2022-07-01                   en   \n",
       "51         P3M 2022-10-01                   en   \n",
       "\n",
       "                                                                DESCRIPTION  \n",
       "47  Gross Domestic Product, Nominal, Seasonally Adjusted, Domestic Currency  \n",
       "48  Gross Domestic Product, Nominal, Seasonally Adjusted, Domestic Currency  \n",
       "49  Gross Domestic Product, Nominal, Seasonally Adjusted, Domestic Currency  \n",
       "50  Gross Domestic Product, Nominal, Seasonally Adjusted, Domestic Currency  \n",
       "51  Gross Domestic Product, Nominal, Seasonally Adjusted, Domestic Currency  "
      ]
     },
     "execution_count": 8,
     "metadata": {},
     "output_type": "execute_result"
    }
   ],
   "source": [
    "df.tail(n=5)"
   ]
  },
  {
   "cell_type": "code",
   "execution_count": 9,
   "metadata": {
    "id": "iuKb84Z7juqQ"
   },
   "outputs": [],
   "source": [
    "df['VALUE'] = pd.to_numeric(df['VALUE'])"
   ]
  },
  {
   "cell_type": "code",
   "execution_count": 10,
   "metadata": {
    "id": "SAPjnf9Zhzwz"
   },
   "outputs": [],
   "source": [
    "df['QoQ'] = df['VALUE'].pct_change()"
   ]
  },
  {
   "cell_type": "markdown",
   "metadata": {
    "id": "Wo-QYPjQo2hq"
   },
   "source": [
    "Now, we may plot the results using **matplotlib**."
   ]
  },
  {
   "cell_type": "code",
   "execution_count": 11,
   "metadata": {
    "id": "0RZYDMushibq"
   },
   "outputs": [],
   "source": [
    "import matplotlib.pyplot as plt"
   ]
  },
  {
   "cell_type": "code",
   "execution_count": 12,
   "metadata": {
    "colab": {
     "base_uri": "https://localhost:8080/",
     "height": 366
    },
    "id": "dqNAI7yzh3fj",
    "outputId": "bc9016b5-8ac8-487c-8450-5ed2477caadf"
   },
   "outputs": [
    {
     "data": {
      "image/png": "[encoded data removed]",
      "text/plain": [
       "<Figure size 2550x550 with 2 Axes>"
      ]
     },
     "metadata": {},
     "output_type": "display_data"
    }
   ],
   "source": [
    "plt.rcParams.update({'font.size': 15})\n",
    "\n",
    "t = df['PERIOD']\n",
    "data1 = df['VALUE'] * 10**6\n",
    "data2 = df['QoQ']\n",
    "\n",
    "labels = [f'Q{int(ts.month/3)+1}\\n{ts.year}' if ts.month == 1\n",
    "          else f'Q{int(ts.month/3)+1}' for ts in t]\n",
    "\n",
    "fig, ax1 = plt.subplots()\n",
    "\n",
    "ax1.set_xlabel('PERIOD')\n",
    "ax1.set_ylabel('Real GDP', color='blue')\n",
    "ax1.set_xticks(t)\n",
    "ax1.set_xticklabels(labels);\n",
    "ax1.plot(t, data1, color='blue')\n",
    "ax1.tick_params(axis='y', labelcolor='black')\n",
    "\n",
    "ax2 = ax1.twinx()\n",
    "\n",
    "ax2.set_ylabel('QoQ change', color='red')\n",
    "ax2.set_xticks(t)\n",
    "ax2.set_xticklabels(labels);\n",
    "ax2.plot(t, data2, '--', color='red')\n",
    "ax2.tick_params(axis='y', labelcolor='black')\n",
    "\n",
    "fig.set_size_inches(25.5, 5.5)\n",
    "plt.title('Real GDP by Quarter in the US')\n",
    "fig.tight_layout()\n",
    "plt.show()"
   ]
  },
  {
   "cell_type": "code",
   "execution_count": null,
   "metadata": {
    "id": "l5cJjudQKabm"
   },
   "outputs": [],
   "source": []
  }
 ],
 "metadata": {
  "colab": {
   "provenance": []
  },
  "kernelspec": {
   "display_name": "imfdatapy",
   "language": "python",
   "name": "imfdatapy"
  },
  "language_info": {
   "codemirror_mode": {
    "name": "ipython",
    "version": 3
   },
   "file_extension": ".py",
   "mimetype": "text/x-python",
   "name": "python",
   "nbconvert_exporter": "python",
   "pygments_lexer": "ipython3",
   "version": "3.10.9"
  }
 },
 "nbformat": 4,
 "nbformat_minor": 1
}
