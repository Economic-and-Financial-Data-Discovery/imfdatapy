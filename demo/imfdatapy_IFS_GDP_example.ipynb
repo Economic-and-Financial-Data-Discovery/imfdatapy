{
  "nbformat": 4,
  "nbformat_minor": 0,
  "metadata": {
    "colab": {
      "provenance": []
    },
    "kernelspec": {
      "name": "python3",
      "display_name": "Python 3"
    },
    "language_info": {
      "name": "python"
    }
  },
  "cells": [
    {
      "cell_type": "markdown",
      "source": [
        "# Extraction of International Financial Statistics data from the IMF using **imfdatapy**\n",
        "The example below retrieves quarterly (period: Q) Seasonally Adjusted Real Gross Domestic Product (indicator: NGDP_R_SA_XDC) for the USA (country code: US), from the International Financial Statistics (IFS) series using the **imfdatapy** package. The function call returns the observation values, and the time period for each value (in the format YYYY-MM-DD).\n",
        "\n",
        "First, we begin with loading the **imfdatapy** library for data extraction and from the IMF and **pandas** for data manipulation."
      ],
      "metadata": {
        "id": "_UFtM0wfnFGA"
      }
    },
    {
      "cell_type": "markdown",
      "source": [
        "# imfdatapy package\n",
        "\n",
        "Source code is available on [Github](https://github.com/Economic-and-Financial-Data-Discovery/imfdatapy)."
      ],
      "metadata": {
        "id": "tzbBflLjmjbU"
      }
    },
    {
      "cell_type": "markdown",
      "source": [
        "The package can be installed using ```pip```."
      ],
      "metadata": {
        "id": "3sZk8Sjomb6m"
      }
    },
    {
      "cell_type": "code",
      "source": [
        "!pip install imfdatapy"
      ],
      "metadata": {
        "colab": {
          "base_uri": "https://localhost:8080/"
        },
        "id": "lYXmOrgWl2QK",
        "outputId": "fc31d910-c325-4691-b09d-613223755c8b"
      },
      "execution_count": 1,
      "outputs": [
        {
          "output_type": "stream",
          "name": "stdout",
          "text": [
            "Looking in indexes: https://pypi.org/simple, https://us-python.pkg.dev/colab-wheels/public/simple/\n",
            "Collecting imfdatapy\n",
            "  Downloading imfdatapy-0.1.5-py3-none-any.whl (7.0 kB)\n",
            "Requirement already satisfied: pandas>=1.3.5 in /usr/local/lib/python3.8/dist-packages (from imfdatapy) (1.3.5)\n",
            "Requirement already satisfied: numpy>=1.21.6 in /usr/local/lib/python3.8/dist-packages (from imfdatapy) (1.21.6)\n",
            "Requirement already satisfied: requests>=2.23.0 in /usr/local/lib/python3.8/dist-packages (from imfdatapy) (2.23.0)\n",
            "Requirement already satisfied: python-dateutil>=2.7.3 in /usr/local/lib/python3.8/dist-packages (from pandas>=1.3.5->imfdatapy) (2.8.2)\n",
            "Requirement already satisfied: pytz>=2017.3 in /usr/local/lib/python3.8/dist-packages (from pandas>=1.3.5->imfdatapy) (2022.6)\n",
            "Requirement already satisfied: six>=1.5 in /usr/local/lib/python3.8/dist-packages (from python-dateutil>=2.7.3->pandas>=1.3.5->imfdatapy) (1.15.0)\n",
            "Requirement already satisfied: certifi>=2017.4.17 in /usr/local/lib/python3.8/dist-packages (from requests>=2.23.0->imfdatapy) (2022.9.24)\n",
            "Requirement already satisfied: urllib3!=1.25.0,!=1.25.1,<1.26,>=1.21.1 in /usr/local/lib/python3.8/dist-packages (from requests>=2.23.0->imfdatapy) (1.24.3)\n",
            "Requirement already satisfied: chardet<4,>=3.0.2 in /usr/local/lib/python3.8/dist-packages (from requests>=2.23.0->imfdatapy) (3.0.4)\n",
            "Requirement already satisfied: idna<3,>=2.5 in /usr/local/lib/python3.8/dist-packages (from requests>=2.23.0->imfdatapy) (2.10)\n",
            "Installing collected packages: imfdatapy\n",
            "Successfully installed imfdatapy-0.1.5\n"
          ]
        }
      ]
    },
    {
      "cell_type": "code",
      "source": [
        "from imfdatapy.imf import *"
      ],
      "metadata": {
        "id": "HFR-i1cpGY42"
      },
      "execution_count": 2,
      "outputs": []
    },
    {
      "cell_type": "code",
      "source": [
        "import pandas as pd # for QoQ change calculation"
      ],
      "metadata": {
        "id": "vvHcG8W7nwS2"
      },
      "execution_count": 3,
      "outputs": []
    },
    {
      "cell_type": "markdown",
      "source": [
        "To download the data from the International Financial Statistics, we use the ```IFS``` class, provding the search terms for the index we are looking for, the country code, the period frequency (Q) and the period. Use the ```download_data``` method to download the data and the metadata to '../out' folder and create a pandas dataframe. The log messages specify which files are created in the '../out' directory."
      ],
      "metadata": {
        "id": "93iKlpqynzVW"
      }
    },
    {
      "cell_type": "code",
      "source": [
        "pd.options.display.max_colwidth = 90"
      ],
      "metadata": {
        "id": "neb-Yq05AYHB"
      },
      "execution_count": 5,
      "outputs": []
    },
    {
      "cell_type": "code",
      "source": [
        "ifs = IFS(search_terms=[\"gross domestic product\"], countries=[\"US\"], period='Q', start_date=\"2010\",\n",
        "                  end_date=\"2023\")\n",
        "df = ifs.download_data()\n",
        "df"
      ],
      "metadata": {
        "colab": {
          "base_uri": "https://localhost:8080/",
          "height": 562
        },
        "id": "6Q2wA-YyBAy9",
        "outputId": "08ff1c50-3684-4242-d9cf-092a16826b38"
      },
      "execution_count": 6,
      "outputs": [
        {
          "output_type": "stream",
          "name": "stdout",
          "text": [
            "2022-12-01 00:10:26,551 imf.py:117 - INFO - Output all IMF series table to ../out/series_imf.csv\n",
            "2022-12-01 00:10:26,569 imf.py:119 - INFO - Output series containing 'IFS' table to ../out/series_ifs.csv\n",
            "2022-12-01 00:10:39,190 imf.py:249 - WARNING - Failed to download CL_FREQ.\n",
            "2022-12-01 00:10:39,770 imf.py:132 - INFO - Output dimension CL_AREA_IFS table to ../out/dim_cl_area_ifs.csv\n",
            "2022-12-01 00:10:39,784 imf.py:132 - INFO - Output dimension CL_INDICATOR_IFS table to ../out/dim_cl_indicator_ifs.csv\n",
            "2022-12-01 00:10:40,153 imf.py:149 - INFO - Output meta data of IFS table to ../out/meta_ifs.csv\n",
            "2022-12-01 00:10:40,172 imf.py:151 - INFO - Output meta data of IFS containing 'gross domestic product' table to ../out/meta_gross domestic product_US_Q_2010_2023.csv\n",
            "2022-12-01 00:10:40,482 imf.py:171 - INFO - Output data of IFS containing 'gross domestic product' table to ../out/data_gross domestic product_US_Q_2010_2023.csv\n"
          ]
        },
        {
          "output_type": "execute_result",
          "data": {
            "text/plain": [
              "                                                                 Description  \\\n",
              "0               Gross Domestic Product, Deflator, Seasonally Adjusted, Index   \n",
              "1               Gross Domestic Product, Deflator, Seasonally Adjusted, Index   \n",
              "2               Gross Domestic Product, Deflator, Seasonally Adjusted, Index   \n",
              "3               Gross Domestic Product, Deflator, Seasonally Adjusted, Index   \n",
              "4               Gross Domestic Product, Deflator, Seasonally Adjusted, Index   \n",
              "..                                                                       ...   \n",
              "97   Gross Domestic Product, Nominal, Seasonally Adjusted, Domestic Currency   \n",
              "98   Gross Domestic Product, Nominal, Seasonally Adjusted, Domestic Currency   \n",
              "99   Gross Domestic Product, Nominal, Seasonally Adjusted, Domestic Currency   \n",
              "100  Gross Domestic Product, Nominal, Seasonally Adjusted, Domestic Currency   \n",
              "101  Gross Domestic Product, Nominal, Seasonally Adjusted, Domestic Currency   \n",
              "\n",
              "    Country     Period             Value            ID  \n",
              "0        US 2010-01-01  99.3392105021347  NGDP_D_SA_IX  \n",
              "1        US 2010-04-01  99.8236914454449  NGDP_D_SA_IX  \n",
              "2        US 2010-07-01  100.125182516395  NGDP_D_SA_IX  \n",
              "3        US 2010-10-01  100.711915536026  NGDP_D_SA_IX  \n",
              "4        US 2011-01-01  101.231913593634  NGDP_D_SA_IX  \n",
              "..      ...        ...               ...           ...  \n",
              "97       US 2021-07-01           5887605   NGDP_SA_XDC  \n",
              "98       US 2021-10-01         6087280.3   NGDP_SA_XDC  \n",
              "99       US 2022-01-01           6185120   NGDP_SA_XDC  \n",
              "100      US 2022-04-01           6312119   NGDP_SA_XDC  \n",
              "101      US 2022-07-01         6415822.3   NGDP_SA_XDC  \n",
              "\n",
              "[255 rows x 5 columns]"
            ],
            "text/html": [
              "\n",
              "  <div id=\"df-beed8f22-19d1-48ce-94f1-44112fd49b9f\">\n",
              "    <div class=\"colab-df-container\">\n",
              "      <div>\n",
              "<style scoped>\n",
              "    .dataframe tbody tr th:only-of-type {\n",
              "        vertical-align: middle;\n",
              "    }\n",
              "\n",
              "    .dataframe tbody tr th {\n",
              "        vertical-align: top;\n",
              "    }\n",
              "\n",
              "    .dataframe thead th {\n",
              "        text-align: right;\n",
              "    }\n",
              "</style>\n",
              "<table border=\"1\" class=\"dataframe\">\n",
              "  <thead>\n",
              "    <tr style=\"text-align: right;\">\n",
              "      <th></th>\n",
              "      <th>Description</th>\n",
              "      <th>Country</th>\n",
              "      <th>Period</th>\n",
              "      <th>Value</th>\n",
              "      <th>ID</th>\n",
              "    </tr>\n",
              "  </thead>\n",
              "  <tbody>\n",
              "    <tr>\n",
              "      <th>0</th>\n",
              "      <td>Gross Domestic Product, Deflator, Seasonally Adjusted, Index</td>\n",
              "      <td>US</td>\n",
              "      <td>2010-01-01</td>\n",
              "      <td>99.3392105021347</td>\n",
              "      <td>NGDP_D_SA_IX</td>\n",
              "    </tr>\n",
              "    <tr>\n",
              "      <th>1</th>\n",
              "      <td>Gross Domestic Product, Deflator, Seasonally Adjusted, Index</td>\n",
              "      <td>US</td>\n",
              "      <td>2010-04-01</td>\n",
              "      <td>99.8236914454449</td>\n",
              "      <td>NGDP_D_SA_IX</td>\n",
              "    </tr>\n",
              "    <tr>\n",
              "      <th>2</th>\n",
              "      <td>Gross Domestic Product, Deflator, Seasonally Adjusted, Index</td>\n",
              "      <td>US</td>\n",
              "      <td>2010-07-01</td>\n",
              "      <td>100.125182516395</td>\n",
              "      <td>NGDP_D_SA_IX</td>\n",
              "    </tr>\n",
              "    <tr>\n",
              "      <th>3</th>\n",
              "      <td>Gross Domestic Product, Deflator, Seasonally Adjusted, Index</td>\n",
              "      <td>US</td>\n",
              "      <td>2010-10-01</td>\n",
              "      <td>100.711915536026</td>\n",
              "      <td>NGDP_D_SA_IX</td>\n",
              "    </tr>\n",
              "    <tr>\n",
              "      <th>4</th>\n",
              "      <td>Gross Domestic Product, Deflator, Seasonally Adjusted, Index</td>\n",
              "      <td>US</td>\n",
              "      <td>2011-01-01</td>\n",
              "      <td>101.231913593634</td>\n",
              "      <td>NGDP_D_SA_IX</td>\n",
              "    </tr>\n",
              "    <tr>\n",
              "      <th>...</th>\n",
              "      <td>...</td>\n",
              "      <td>...</td>\n",
              "      <td>...</td>\n",
              "      <td>...</td>\n",
              "      <td>...</td>\n",
              "    </tr>\n",
              "    <tr>\n",
              "      <th>97</th>\n",
              "      <td>Gross Domestic Product, Nominal, Seasonally Adjusted, Domestic Currency</td>\n",
              "      <td>US</td>\n",
              "      <td>2021-07-01</td>\n",
              "      <td>5887605</td>\n",
              "      <td>NGDP_SA_XDC</td>\n",
              "    </tr>\n",
              "    <tr>\n",
              "      <th>98</th>\n",
              "      <td>Gross Domestic Product, Nominal, Seasonally Adjusted, Domestic Currency</td>\n",
              "      <td>US</td>\n",
              "      <td>2021-10-01</td>\n",
              "      <td>6087280.3</td>\n",
              "      <td>NGDP_SA_XDC</td>\n",
              "    </tr>\n",
              "    <tr>\n",
              "      <th>99</th>\n",
              "      <td>Gross Domestic Product, Nominal, Seasonally Adjusted, Domestic Currency</td>\n",
              "      <td>US</td>\n",
              "      <td>2022-01-01</td>\n",
              "      <td>6185120</td>\n",
              "      <td>NGDP_SA_XDC</td>\n",
              "    </tr>\n",
              "    <tr>\n",
              "      <th>100</th>\n",
              "      <td>Gross Domestic Product, Nominal, Seasonally Adjusted, Domestic Currency</td>\n",
              "      <td>US</td>\n",
              "      <td>2022-04-01</td>\n",
              "      <td>6312119</td>\n",
              "      <td>NGDP_SA_XDC</td>\n",
              "    </tr>\n",
              "    <tr>\n",
              "      <th>101</th>\n",
              "      <td>Gross Domestic Product, Nominal, Seasonally Adjusted, Domestic Currency</td>\n",
              "      <td>US</td>\n",
              "      <td>2022-07-01</td>\n",
              "      <td>6415822.3</td>\n",
              "      <td>NGDP_SA_XDC</td>\n",
              "    </tr>\n",
              "  </tbody>\n",
              "</table>\n",
              "<p>255 rows × 5 columns</p>\n",
              "</div>\n",
              "      <button class=\"colab-df-convert\" onclick=\"convertToInteractive('df-beed8f22-19d1-48ce-94f1-44112fd49b9f')\"\n",
              "              title=\"Convert this dataframe to an interactive table.\"\n",
              "              style=\"display:none;\">\n",
              "        \n",
              "  <svg xmlns=\"http://www.w3.org/2000/svg\" height=\"24px\"viewBox=\"0 0 24 24\"\n",
              "       width=\"24px\">\n",
              "    <path d=\"M0 0h24v24H0V0z\" fill=\"none\"/>\n",
              "    <path d=\"M18.56 5.44l.94 2.06.94-2.06 2.06-.94-2.06-.94-.94-2.06-.94 2.06-2.06.94zm-11 1L8.5 8.5l.94-2.06 2.06-.94-2.06-.94L8.5 2.5l-.94 2.06-2.06.94zm10 10l.94 2.06.94-2.06 2.06-.94-2.06-.94-.94-2.06-.94 2.06-2.06.94z\"/><path d=\"M17.41 7.96l-1.37-1.37c-.4-.4-.92-.59-1.43-.59-.52 0-1.04.2-1.43.59L10.3 9.45l-7.72 7.72c-.78.78-.78 2.05 0 2.83L4 21.41c.39.39.9.59 1.41.59.51 0 1.02-.2 1.41-.59l7.78-7.78 2.81-2.81c.8-.78.8-2.07 0-2.86zM5.41 20L4 18.59l7.72-7.72 1.47 1.35L5.41 20z\"/>\n",
              "  </svg>\n",
              "      </button>\n",
              "      \n",
              "  <style>\n",
              "    .colab-df-container {\n",
              "      display:flex;\n",
              "      flex-wrap:wrap;\n",
              "      gap: 12px;\n",
              "    }\n",
              "\n",
              "    .colab-df-convert {\n",
              "      background-color: #E8F0FE;\n",
              "      border: none;\n",
              "      border-radius: 50%;\n",
              "      cursor: pointer;\n",
              "      display: none;\n",
              "      fill: #1967D2;\n",
              "      height: 32px;\n",
              "      padding: 0 0 0 0;\n",
              "      width: 32px;\n",
              "    }\n",
              "\n",
              "    .colab-df-convert:hover {\n",
              "      background-color: #E2EBFA;\n",
              "      box-shadow: 0px 1px 2px rgba(60, 64, 67, 0.3), 0px 1px 3px 1px rgba(60, 64, 67, 0.15);\n",
              "      fill: #174EA6;\n",
              "    }\n",
              "\n",
              "    [theme=dark] .colab-df-convert {\n",
              "      background-color: #3B4455;\n",
              "      fill: #D2E3FC;\n",
              "    }\n",
              "\n",
              "    [theme=dark] .colab-df-convert:hover {\n",
              "      background-color: #434B5C;\n",
              "      box-shadow: 0px 1px 3px 1px rgba(0, 0, 0, 0.15);\n",
              "      filter: drop-shadow(0px 1px 2px rgba(0, 0, 0, 0.3));\n",
              "      fill: #FFFFFF;\n",
              "    }\n",
              "  </style>\n",
              "\n",
              "      <script>\n",
              "        const buttonEl =\n",
              "          document.querySelector('#df-beed8f22-19d1-48ce-94f1-44112fd49b9f button.colab-df-convert');\n",
              "        buttonEl.style.display =\n",
              "          google.colab.kernel.accessAllowed ? 'block' : 'none';\n",
              "\n",
              "        async function convertToInteractive(key) {\n",
              "          const element = document.querySelector('#df-beed8f22-19d1-48ce-94f1-44112fd49b9f');\n",
              "          const dataTable =\n",
              "            await google.colab.kernel.invokeFunction('convertToInteractive',\n",
              "                                                     [key], {});\n",
              "          if (!dataTable) return;\n",
              "\n",
              "          const docLinkHtml = 'Like what you see? Visit the ' +\n",
              "            '<a target=\"_blank\" href=https://colab.research.google.com/notebooks/data_table.ipynb>data table notebook</a>'\n",
              "            + ' to learn more about interactive tables.';\n",
              "          element.innerHTML = '';\n",
              "          dataTable['output_type'] = 'display_data';\n",
              "          await google.colab.output.renderOutput(dataTable, element);\n",
              "          const docLink = document.createElement('div');\n",
              "          docLink.innerHTML = docLinkHtml;\n",
              "          element.appendChild(docLink);\n",
              "        }\n",
              "      </script>\n",
              "    </div>\n",
              "  </div>\n",
              "  "
            ]
          },
          "metadata": {},
          "execution_count": 6
        }
      ]
    },
    {
      "cell_type": "markdown",
      "source": [
        "Here, all the data that matched the search term is loaded. To view the index names, use the meta data file as shown below."
      ],
      "metadata": {
        "id": "cJaNSIekoblc"
      }
    },
    {
      "cell_type": "code",
      "source": [
        "meta = pd.read_csv('../out/meta_gross domestic product_US_Q_2010_2023.csv')"
      ],
      "metadata": {
        "id": "L6xoBi0OkN76"
      },
      "execution_count": 7,
      "outputs": []
    },
    {
      "cell_type": "code",
      "source": [
        "meta"
      ],
      "metadata": {
        "colab": {
          "base_uri": "https://localhost:8080/",
          "height": 300
        },
        "id": "Ci-M8norkSgA",
        "outputId": "697c7693-5903-41ad-e890-076534ac22ec"
      },
      "execution_count": 8,
      "outputs": [
        {
          "output_type": "execute_result",
          "data": {
            "text/plain": [
              "               ID Description.@xml:lang  \\\n",
              "0       NGDP_D_IX                    en   \n",
              "1    NGDP_D_SA_IX                    en   \n",
              "2        NGDP_XDC                    en   \n",
              "3     NGDP_SA_XDC                    en   \n",
              "4    NGDP_NSA_XDC                    en   \n",
              "5      NGDP_R_XDC                    en   \n",
              "6   NGDP_R_SA_XDC                    en   \n",
              "7  NGDP_R_NSA_XDC                    en   \n",
              "\n",
              "                                                               Description  \n",
              "0                                  Gross Domestic Product, Deflator, Index  \n",
              "1             Gross Domestic Product, Deflator, Seasonally Adjusted, Index  \n",
              "2                       Gross Domestic Product, Nominal, Domestic Currency  \n",
              "3  Gross Domestic Product, Nominal, Seasonally Adjusted, Domestic Currency  \n",
              "4           Gross Domestic Product, Nominal, Unadjusted, Domestic Currency  \n",
              "5                          Gross Domestic Product, Real, Domestic Currency  \n",
              "6     Gross Domestic Product, Real, Seasonally Adjusted, Domestic Currency  \n",
              "7              Gross Domestic Product, Real, Unadjusted, Domestic Currency  "
            ],
            "text/html": [
              "\n",
              "  <div id=\"df-6e4d3215-86e4-42cf-ae20-dc99625e5931\">\n",
              "    <div class=\"colab-df-container\">\n",
              "      <div>\n",
              "<style scoped>\n",
              "    .dataframe tbody tr th:only-of-type {\n",
              "        vertical-align: middle;\n",
              "    }\n",
              "\n",
              "    .dataframe tbody tr th {\n",
              "        vertical-align: top;\n",
              "    }\n",
              "\n",
              "    .dataframe thead th {\n",
              "        text-align: right;\n",
              "    }\n",
              "</style>\n",
              "<table border=\"1\" class=\"dataframe\">\n",
              "  <thead>\n",
              "    <tr style=\"text-align: right;\">\n",
              "      <th></th>\n",
              "      <th>ID</th>\n",
              "      <th>Description.@xml:lang</th>\n",
              "      <th>Description</th>\n",
              "    </tr>\n",
              "  </thead>\n",
              "  <tbody>\n",
              "    <tr>\n",
              "      <th>0</th>\n",
              "      <td>NGDP_D_IX</td>\n",
              "      <td>en</td>\n",
              "      <td>Gross Domestic Product, Deflator, Index</td>\n",
              "    </tr>\n",
              "    <tr>\n",
              "      <th>1</th>\n",
              "      <td>NGDP_D_SA_IX</td>\n",
              "      <td>en</td>\n",
              "      <td>Gross Domestic Product, Deflator, Seasonally Adjusted, Index</td>\n",
              "    </tr>\n",
              "    <tr>\n",
              "      <th>2</th>\n",
              "      <td>NGDP_XDC</td>\n",
              "      <td>en</td>\n",
              "      <td>Gross Domestic Product, Nominal, Domestic Currency</td>\n",
              "    </tr>\n",
              "    <tr>\n",
              "      <th>3</th>\n",
              "      <td>NGDP_SA_XDC</td>\n",
              "      <td>en</td>\n",
              "      <td>Gross Domestic Product, Nominal, Seasonally Adjusted, Domestic Currency</td>\n",
              "    </tr>\n",
              "    <tr>\n",
              "      <th>4</th>\n",
              "      <td>NGDP_NSA_XDC</td>\n",
              "      <td>en</td>\n",
              "      <td>Gross Domestic Product, Nominal, Unadjusted, Domestic Currency</td>\n",
              "    </tr>\n",
              "    <tr>\n",
              "      <th>5</th>\n",
              "      <td>NGDP_R_XDC</td>\n",
              "      <td>en</td>\n",
              "      <td>Gross Domestic Product, Real, Domestic Currency</td>\n",
              "    </tr>\n",
              "    <tr>\n",
              "      <th>6</th>\n",
              "      <td>NGDP_R_SA_XDC</td>\n",
              "      <td>en</td>\n",
              "      <td>Gross Domestic Product, Real, Seasonally Adjusted, Domestic Currency</td>\n",
              "    </tr>\n",
              "    <tr>\n",
              "      <th>7</th>\n",
              "      <td>NGDP_R_NSA_XDC</td>\n",
              "      <td>en</td>\n",
              "      <td>Gross Domestic Product, Real, Unadjusted, Domestic Currency</td>\n",
              "    </tr>\n",
              "  </tbody>\n",
              "</table>\n",
              "</div>\n",
              "      <button class=\"colab-df-convert\" onclick=\"convertToInteractive('df-6e4d3215-86e4-42cf-ae20-dc99625e5931')\"\n",
              "              title=\"Convert this dataframe to an interactive table.\"\n",
              "              style=\"display:none;\">\n",
              "        \n",
              "  <svg xmlns=\"http://www.w3.org/2000/svg\" height=\"24px\"viewBox=\"0 0 24 24\"\n",
              "       width=\"24px\">\n",
              "    <path d=\"M0 0h24v24H0V0z\" fill=\"none\"/>\n",
              "    <path d=\"M18.56 5.44l.94 2.06.94-2.06 2.06-.94-2.06-.94-.94-2.06-.94 2.06-2.06.94zm-11 1L8.5 8.5l.94-2.06 2.06-.94-2.06-.94L8.5 2.5l-.94 2.06-2.06.94zm10 10l.94 2.06.94-2.06 2.06-.94-2.06-.94-.94-2.06-.94 2.06-2.06.94z\"/><path d=\"M17.41 7.96l-1.37-1.37c-.4-.4-.92-.59-1.43-.59-.52 0-1.04.2-1.43.59L10.3 9.45l-7.72 7.72c-.78.78-.78 2.05 0 2.83L4 21.41c.39.39.9.59 1.41.59.51 0 1.02-.2 1.41-.59l7.78-7.78 2.81-2.81c.8-.78.8-2.07 0-2.86zM5.41 20L4 18.59l7.72-7.72 1.47 1.35L5.41 20z\"/>\n",
              "  </svg>\n",
              "      </button>\n",
              "      \n",
              "  <style>\n",
              "    .colab-df-container {\n",
              "      display:flex;\n",
              "      flex-wrap:wrap;\n",
              "      gap: 12px;\n",
              "    }\n",
              "\n",
              "    .colab-df-convert {\n",
              "      background-color: #E8F0FE;\n",
              "      border: none;\n",
              "      border-radius: 50%;\n",
              "      cursor: pointer;\n",
              "      display: none;\n",
              "      fill: #1967D2;\n",
              "      height: 32px;\n",
              "      padding: 0 0 0 0;\n",
              "      width: 32px;\n",
              "    }\n",
              "\n",
              "    .colab-df-convert:hover {\n",
              "      background-color: #E2EBFA;\n",
              "      box-shadow: 0px 1px 2px rgba(60, 64, 67, 0.3), 0px 1px 3px 1px rgba(60, 64, 67, 0.15);\n",
              "      fill: #174EA6;\n",
              "    }\n",
              "\n",
              "    [theme=dark] .colab-df-convert {\n",
              "      background-color: #3B4455;\n",
              "      fill: #D2E3FC;\n",
              "    }\n",
              "\n",
              "    [theme=dark] .colab-df-convert:hover {\n",
              "      background-color: #434B5C;\n",
              "      box-shadow: 0px 1px 3px 1px rgba(0, 0, 0, 0.15);\n",
              "      filter: drop-shadow(0px 1px 2px rgba(0, 0, 0, 0.3));\n",
              "      fill: #FFFFFF;\n",
              "    }\n",
              "  </style>\n",
              "\n",
              "      <script>\n",
              "        const buttonEl =\n",
              "          document.querySelector('#df-6e4d3215-86e4-42cf-ae20-dc99625e5931 button.colab-df-convert');\n",
              "        buttonEl.style.display =\n",
              "          google.colab.kernel.accessAllowed ? 'block' : 'none';\n",
              "\n",
              "        async function convertToInteractive(key) {\n",
              "          const element = document.querySelector('#df-6e4d3215-86e4-42cf-ae20-dc99625e5931');\n",
              "          const dataTable =\n",
              "            await google.colab.kernel.invokeFunction('convertToInteractive',\n",
              "                                                     [key], {});\n",
              "          if (!dataTable) return;\n",
              "\n",
              "          const docLinkHtml = 'Like what you see? Visit the ' +\n",
              "            '<a target=\"_blank\" href=https://colab.research.google.com/notebooks/data_table.ipynb>data table notebook</a>'\n",
              "            + ' to learn more about interactive tables.';\n",
              "          element.innerHTML = '';\n",
              "          dataTable['output_type'] = 'display_data';\n",
              "          await google.colab.output.renderOutput(dataTable, element);\n",
              "          const docLink = document.createElement('div');\n",
              "          docLink.innerHTML = docLinkHtml;\n",
              "          element.appendChild(docLink);\n",
              "        }\n",
              "      </script>\n",
              "    </div>\n",
              "  </div>\n",
              "  "
            ]
          },
          "metadata": {},
          "execution_count": 8
        }
      ]
    },
    {
      "cell_type": "markdown",
      "source": [
        "We are interested in \tGross Domestic Product, Real, Seasonally Adjusted, Domestic Currency. We will filter the dataframe to contain only this index."
      ],
      "metadata": {
        "id": "67JOhqa5opiH"
      }
    },
    {
      "cell_type": "code",
      "source": [
        "df = df[df['ID']=='NGDP_SA_XDC'].reset_index()\n"
      ],
      "metadata": {
        "id": "Oqc48pEKgv9P"
      },
      "execution_count": 9,
      "outputs": []
    },
    {
      "cell_type": "code",
      "source": [
        "df.tail(n=5)"
      ],
      "metadata": {
        "colab": {
          "base_uri": "https://localhost:8080/",
          "height": 206
        },
        "id": "-2ZdfOJQhD0R",
        "outputId": "50d2a7e9-958c-49f1-ba05-118da3a47cac"
      },
      "execution_count": 10,
      "outputs": [
        {
          "output_type": "execute_result",
          "data": {
            "text/plain": [
              "    index  \\\n",
              "46     97   \n",
              "47     98   \n",
              "48     99   \n",
              "49    100   \n",
              "50    101   \n",
              "\n",
              "                                                                Description  \\\n",
              "46  Gross Domestic Product, Nominal, Seasonally Adjusted, Domestic Currency   \n",
              "47  Gross Domestic Product, Nominal, Seasonally Adjusted, Domestic Currency   \n",
              "48  Gross Domestic Product, Nominal, Seasonally Adjusted, Domestic Currency   \n",
              "49  Gross Domestic Product, Nominal, Seasonally Adjusted, Domestic Currency   \n",
              "50  Gross Domestic Product, Nominal, Seasonally Adjusted, Domestic Currency   \n",
              "\n",
              "   Country     Period      Value           ID  \n",
              "46      US 2021-07-01    5887605  NGDP_SA_XDC  \n",
              "47      US 2021-10-01  6087280.3  NGDP_SA_XDC  \n",
              "48      US 2022-01-01    6185120  NGDP_SA_XDC  \n",
              "49      US 2022-04-01    6312119  NGDP_SA_XDC  \n",
              "50      US 2022-07-01  6415822.3  NGDP_SA_XDC  "
            ],
            "text/html": [
              "\n",
              "  <div id=\"df-8591373e-e28e-4bab-bf8e-8ccb702676ff\">\n",
              "    <div class=\"colab-df-container\">\n",
              "      <div>\n",
              "<style scoped>\n",
              "    .dataframe tbody tr th:only-of-type {\n",
              "        vertical-align: middle;\n",
              "    }\n",
              "\n",
              "    .dataframe tbody tr th {\n",
              "        vertical-align: top;\n",
              "    }\n",
              "\n",
              "    .dataframe thead th {\n",
              "        text-align: right;\n",
              "    }\n",
              "</style>\n",
              "<table border=\"1\" class=\"dataframe\">\n",
              "  <thead>\n",
              "    <tr style=\"text-align: right;\">\n",
              "      <th></th>\n",
              "      <th>index</th>\n",
              "      <th>Description</th>\n",
              "      <th>Country</th>\n",
              "      <th>Period</th>\n",
              "      <th>Value</th>\n",
              "      <th>ID</th>\n",
              "    </tr>\n",
              "  </thead>\n",
              "  <tbody>\n",
              "    <tr>\n",
              "      <th>46</th>\n",
              "      <td>97</td>\n",
              "      <td>Gross Domestic Product, Nominal, Seasonally Adjusted, Domestic Currency</td>\n",
              "      <td>US</td>\n",
              "      <td>2021-07-01</td>\n",
              "      <td>5887605</td>\n",
              "      <td>NGDP_SA_XDC</td>\n",
              "    </tr>\n",
              "    <tr>\n",
              "      <th>47</th>\n",
              "      <td>98</td>\n",
              "      <td>Gross Domestic Product, Nominal, Seasonally Adjusted, Domestic Currency</td>\n",
              "      <td>US</td>\n",
              "      <td>2021-10-01</td>\n",
              "      <td>6087280.3</td>\n",
              "      <td>NGDP_SA_XDC</td>\n",
              "    </tr>\n",
              "    <tr>\n",
              "      <th>48</th>\n",
              "      <td>99</td>\n",
              "      <td>Gross Domestic Product, Nominal, Seasonally Adjusted, Domestic Currency</td>\n",
              "      <td>US</td>\n",
              "      <td>2022-01-01</td>\n",
              "      <td>6185120</td>\n",
              "      <td>NGDP_SA_XDC</td>\n",
              "    </tr>\n",
              "    <tr>\n",
              "      <th>49</th>\n",
              "      <td>100</td>\n",
              "      <td>Gross Domestic Product, Nominal, Seasonally Adjusted, Domestic Currency</td>\n",
              "      <td>US</td>\n",
              "      <td>2022-04-01</td>\n",
              "      <td>6312119</td>\n",
              "      <td>NGDP_SA_XDC</td>\n",
              "    </tr>\n",
              "    <tr>\n",
              "      <th>50</th>\n",
              "      <td>101</td>\n",
              "      <td>Gross Domestic Product, Nominal, Seasonally Adjusted, Domestic Currency</td>\n",
              "      <td>US</td>\n",
              "      <td>2022-07-01</td>\n",
              "      <td>6415822.3</td>\n",
              "      <td>NGDP_SA_XDC</td>\n",
              "    </tr>\n",
              "  </tbody>\n",
              "</table>\n",
              "</div>\n",
              "      <button class=\"colab-df-convert\" onclick=\"convertToInteractive('df-8591373e-e28e-4bab-bf8e-8ccb702676ff')\"\n",
              "              title=\"Convert this dataframe to an interactive table.\"\n",
              "              style=\"display:none;\">\n",
              "        \n",
              "  <svg xmlns=\"http://www.w3.org/2000/svg\" height=\"24px\"viewBox=\"0 0 24 24\"\n",
              "       width=\"24px\">\n",
              "    <path d=\"M0 0h24v24H0V0z\" fill=\"none\"/>\n",
              "    <path d=\"M18.56 5.44l.94 2.06.94-2.06 2.06-.94-2.06-.94-.94-2.06-.94 2.06-2.06.94zm-11 1L8.5 8.5l.94-2.06 2.06-.94-2.06-.94L8.5 2.5l-.94 2.06-2.06.94zm10 10l.94 2.06.94-2.06 2.06-.94-2.06-.94-.94-2.06-.94 2.06-2.06.94z\"/><path d=\"M17.41 7.96l-1.37-1.37c-.4-.4-.92-.59-1.43-.59-.52 0-1.04.2-1.43.59L10.3 9.45l-7.72 7.72c-.78.78-.78 2.05 0 2.83L4 21.41c.39.39.9.59 1.41.59.51 0 1.02-.2 1.41-.59l7.78-7.78 2.81-2.81c.8-.78.8-2.07 0-2.86zM5.41 20L4 18.59l7.72-7.72 1.47 1.35L5.41 20z\"/>\n",
              "  </svg>\n",
              "      </button>\n",
              "      \n",
              "  <style>\n",
              "    .colab-df-container {\n",
              "      display:flex;\n",
              "      flex-wrap:wrap;\n",
              "      gap: 12px;\n",
              "    }\n",
              "\n",
              "    .colab-df-convert {\n",
              "      background-color: #E8F0FE;\n",
              "      border: none;\n",
              "      border-radius: 50%;\n",
              "      cursor: pointer;\n",
              "      display: none;\n",
              "      fill: #1967D2;\n",
              "      height: 32px;\n",
              "      padding: 0 0 0 0;\n",
              "      width: 32px;\n",
              "    }\n",
              "\n",
              "    .colab-df-convert:hover {\n",
              "      background-color: #E2EBFA;\n",
              "      box-shadow: 0px 1px 2px rgba(60, 64, 67, 0.3), 0px 1px 3px 1px rgba(60, 64, 67, 0.15);\n",
              "      fill: #174EA6;\n",
              "    }\n",
              "\n",
              "    [theme=dark] .colab-df-convert {\n",
              "      background-color: #3B4455;\n",
              "      fill: #D2E3FC;\n",
              "    }\n",
              "\n",
              "    [theme=dark] .colab-df-convert:hover {\n",
              "      background-color: #434B5C;\n",
              "      box-shadow: 0px 1px 3px 1px rgba(0, 0, 0, 0.15);\n",
              "      filter: drop-shadow(0px 1px 2px rgba(0, 0, 0, 0.3));\n",
              "      fill: #FFFFFF;\n",
              "    }\n",
              "  </style>\n",
              "\n",
              "      <script>\n",
              "        const buttonEl =\n",
              "          document.querySelector('#df-8591373e-e28e-4bab-bf8e-8ccb702676ff button.colab-df-convert');\n",
              "        buttonEl.style.display =\n",
              "          google.colab.kernel.accessAllowed ? 'block' : 'none';\n",
              "\n",
              "        async function convertToInteractive(key) {\n",
              "          const element = document.querySelector('#df-8591373e-e28e-4bab-bf8e-8ccb702676ff');\n",
              "          const dataTable =\n",
              "            await google.colab.kernel.invokeFunction('convertToInteractive',\n",
              "                                                     [key], {});\n",
              "          if (!dataTable) return;\n",
              "\n",
              "          const docLinkHtml = 'Like what you see? Visit the ' +\n",
              "            '<a target=\"_blank\" href=https://colab.research.google.com/notebooks/data_table.ipynb>data table notebook</a>'\n",
              "            + ' to learn more about interactive tables.';\n",
              "          element.innerHTML = '';\n",
              "          dataTable['output_type'] = 'display_data';\n",
              "          await google.colab.output.renderOutput(dataTable, element);\n",
              "          const docLink = document.createElement('div');\n",
              "          docLink.innerHTML = docLinkHtml;\n",
              "          element.appendChild(docLink);\n",
              "        }\n",
              "      </script>\n",
              "    </div>\n",
              "  </div>\n",
              "  "
            ]
          },
          "metadata": {},
          "execution_count": 10
        }
      ]
    },
    {
      "cell_type": "code",
      "source": [
        "df['Value'] = pd.to_numeric(df['Value'])"
      ],
      "metadata": {
        "id": "iuKb84Z7juqQ"
      },
      "execution_count": 11,
      "outputs": []
    },
    {
      "cell_type": "code",
      "source": [
        "df['QoQ'] = df['Value'].pct_change()"
      ],
      "metadata": {
        "id": "SAPjnf9Zhzwz"
      },
      "execution_count": 12,
      "outputs": []
    },
    {
      "cell_type": "markdown",
      "source": [
        "Now, we may plot the results using **matplotlib**."
      ],
      "metadata": {
        "id": "Wo-QYPjQo2hq"
      }
    },
    {
      "cell_type": "code",
      "source": [
        "import matplotlib.pyplot as plt"
      ],
      "metadata": {
        "id": "0RZYDMushibq"
      },
      "execution_count": 13,
      "outputs": []
    },
    {
      "cell_type": "code",
      "source": [
        "plt.rcParams.update({'font.size': 15})\n",
        "\n",
        "t = df['Period']\n",
        "data1 = df['Value'] * 10**6\n",
        "data2 = df['QoQ']\n",
        "\n",
        "labels = [f'Q{int(ts.month/3)+1}\\n{ts.year}' if ts.month == 1\n",
        "          else f'Q{int(ts.month/3)+1}' for ts in t]\n",
        "\n",
        "fig, ax1 = plt.subplots()\n",
        "\n",
        "ax1.set_xlabel('Period')\n",
        "ax1.set_ylabel('Real GDP', color='blue')\n",
        "ax1.set_xticks(t)\n",
        "ax1.set_xticklabels(labels);\n",
        "ax1.plot(t, data1, color='blue')\n",
        "ax1.tick_params(axis='y', labelcolor='black')\n",
        "\n",
        "ax2 = ax1.twinx()\n",
        "\n",
        "ax2.set_ylabel('QoQ change', color='red')\n",
        "ax2.set_xticks(t)\n",
        "ax2.set_xticklabels(labels);\n",
        "ax2.plot(t, data2, '--', color='red')\n",
        "ax2.tick_params(axis='y', labelcolor='black')\n",
        "\n",
        "fig.set_size_inches(25.5, 5.5)\n",
        "plt.title('Real GDP by Quarter in the US')\n",
        "fig.tight_layout()\n",
        "plt.show()"
      ],
      "metadata": {
        "colab": {
          "base_uri": "https://localhost:8080/",
          "height": 366
        },
        "id": "dqNAI7yzh3fj",
        "outputId": "bc9016b5-8ac8-487c-8450-5ed2477caadf"
      },
      "execution_count": 14,
      "outputs": [
        {
          "output_type": "display_data",
          "data": {
            "text/plain": [
              "<Figure size 1836x396 with 2 Axes>"
            ],
            "image/png": "[encoded data removed]"
          },
          "metadata": {
            "needs_background": "light"
          }
        }
      ]
    },
    {
      "cell_type": "code",
      "source": [],
      "metadata": {
        "id": "l5cJjudQKabm"
      },
      "execution_count": null,
      "outputs": []
    }
  ]
}