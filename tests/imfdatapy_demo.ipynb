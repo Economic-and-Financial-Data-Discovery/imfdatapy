{
 "cells": [
  {
   "cell_type": "code",
   "execution_count": null,
   "id": "55468d8a",
   "metadata": {},
   "outputs": [],
   "source": [
    "from imfdatapy.imf import *"
   ]
  },
  {
   "cell_type": "code",
   "execution_count": null,
   "id": "d421bf61",
   "metadata": {},
   "outputs": [],
   "source": [
    "ifs = IFS(search_terms=[\"gross domestic product, real\"], countries=[\"US\"], period='Q', start_date=\"2000\",\n",
    "                  end_date=\"2022\")\n",
    "df = ifs.download_data()\n",
    "df"
   ]
  },
  {
   "cell_type": "code",
   "execution_count": null,
   "id": "ca3fa2e7",
   "metadata": {},
   "outputs": [],
   "source": [
    "ifs = IFS(search_terms=[\"gross Domestic Product, Real\"], countries=[\"CA\", \"RU\"],\n",
    "                  period='Q',  start_date=\"1970\", end_date=\"2022\")\n",
    "df = ifs.download_data()\n",
    "df"
   ]
  },
  {
   "cell_type": "code",
   "execution_count": null,
   "id": "e6332213",
   "metadata": {},
   "outputs": [],
   "source": [
    "ifs = IFS(series=\"DOT\", search_terms=[\"trade\"], countries=[\"US\"], period='Q', start_date=\"2000\",\n",
    "          end_date=\"2022\")\n",
    "df = ifs.download_data()\n",
    "df"
   ]
  },
  {
   "cell_type": "code",
   "execution_count": null,
   "id": "74915f70",
   "metadata": {},
   "outputs": [],
   "source": [
    "ifs = IFS(series=\"BOP\", search_terms=[\"current account, total, credit\"], countries=[\"US\"], period='Q',\n",
    "      start_date=\"2000\", end_date=\"2022\")\n",
    "df = ifs.download_data()\n",
    "df"
   ]
  },
  {
   "cell_type": "code",
   "execution_count": null,
   "id": "4b38a036",
   "metadata": {},
   "outputs": [],
   "source": [
    "ifs = IFS(series=\"GFSR\", search_terms=[\"central government\"], countries=[\"US\"], period='A', start_date=\"2000\", end_date=\"2022\")\n",
    "df = ifs.download_data()\n",
    "df"
   ]
  },
  {
   "cell_type": "code",
   "execution_count": null,
   "id": "42a220f2",
   "metadata": {},
   "outputs": [],
   "source": [
    "ifs = IFS(series=\"FSI\", search_terms=[\"Value of large exposures\"], countries=[\"US\"], period='A', start_date=\"2000\", end_date=\"2022\")\n",
    "df = ifs.download_data()\n",
    "df"
   ]
  }
 ],
 "metadata": {
  "kernelspec": {
   "display_name": "imfdatapy",
   "language": "python",
   "name": "imfdatapy"
  },
  "language_info": {
   "codemirror_mode": {
    "name": "ipython",
    "version": 3
   },
   "file_extension": ".py",
   "mimetype": "text/x-python",
   "name": "python",
   "nbconvert_exporter": "python",
   "pygments_lexer": "ipython3",
   "version": "3.10.8"
  }
 },
 "nbformat": 4,
 "nbformat_minor": 5
}
